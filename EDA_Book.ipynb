{
 "cells": [
  {
   "cell_type": "markdown",
   "metadata": {},
   "source": [
    "$\\Large\\textbf{EDA Notebook}$"
   ]
  },
  {
   "cell_type": "code",
   "execution_count": 3,
   "metadata": {
    "slideshow": {
     "slide_type": "skip"
    }
   },
   "outputs": [],
   "source": [
    "import pandas as pd\n",
    "import matplotlib.pyplot as plt\n",
    "import numpy as np\n",
    "from sklearn.model_selection import train_test_split\n",
    "from sklearn import linear_model\n",
    "from sklearn.metrics import mean_squared_error\n",
    "from sklearn.metrics import mean_absolute_error\n",
    "import math"
   ]
  },
  {
   "cell_type": "markdown",
   "metadata": {},
   "source": [
    "$\\large \\text{Getting the statistic of Iowa Salary Book}$"
   ]
  },
  {
   "cell_type": "code",
   "execution_count": 4,
   "metadata": {
    "slideshow": {
     "slide_type": "slide"
    }
   },
   "outputs": [
    {
     "data": {
      "text/plain": [
       "Index(['Fiscal Year', 'Department', 'Agency/Institution', 'Name', 'Gender',\n",
       "       'Place of Residence', 'Position', 'Base Salary', 'Base Salary Date',\n",
       "       'Total Salary Paid', 'Travel & Subsistence'],\n",
       "      dtype='object')"
      ]
     },
     "execution_count": 4,
     "metadata": {},
     "output_type": "execute_result"
    }
   ],
   "source": [
    "# Read in Iowa_Salary_Book dataset\n",
    "df1 = pd.read_csv('D:\\\\download\\\\Materials\\\\State_of_Iowa_Salary_Book.csv',engine='python')\n",
    "df1.columns"
   ]
  },
  {
   "cell_type": "code",
   "execution_count": 15,
   "metadata": {
    "slideshow": {
     "slide_type": "subslide"
    }
   },
   "outputs": [],
   "source": [
    "# Get a slice of the dataset to make data processing more easy\n",
    "df1.sort_values(by=\"Fiscal Year\",ascending=False)\n",
    "df1 = df1.drop([\"Department\",'Agency/Institution',\"Name\",\"Gender\",'Place of Residence','Position','Base Salary Date',\n",
    "          'Total Salary Paid', 'Travel & Subsistence'],axis=1)\n",
    "df1.columns = [\"Year\",\"Base_Salary\"]\n",
    "df1 = df1[0:1000]"
   ]
  },
  {
   "cell_type": "code",
   "execution_count": 90,
   "metadata": {
    "slideshow": {
     "slide_type": "skip"
    }
   },
   "outputs": [],
   "source": [
    "df1.to_csv(\"D:\\\\download\\\\Materials\\\\RevisedSalary.csv\",index=False)"
   ]
  },
  {
   "cell_type": "markdown",
   "metadata": {},
   "source": [
    "$\\large \\text{Processing entries in \"Base_Salary\" column to make them represent corresponding annual salary}$"
   ]
  },
  {
   "cell_type": "code",
   "execution_count": 17,
   "metadata": {
    "slideshow": {
     "slide_type": "slide"
    }
   },
   "outputs": [
    {
     "name": "stderr",
     "output_type": "stream",
     "text": [
      "<ipython-input-17-3cdbd191b9b2>:3: SettingWithCopyWarning: \n",
      "A value is trying to be set on a copy of a slice from a DataFrame\n",
      "\n",
      "See the caveats in the documentation: https://pandas.pydata.org/pandas-docs/stable/user_guide/indexing.html#returning-a-view-versus-a-copy\n",
      "  df1[\"Base_Salary\"][i] = float(17 * 40 * 2 * 27)\n",
      "<ipython-input-17-3cdbd191b9b2>:9: SettingWithCopyWarning: \n",
      "A value is trying to be set on a copy of a slice from a DataFrame\n",
      "\n",
      "See the caveats in the documentation: https://pandas.pydata.org/pandas-docs/stable/user_guide/indexing.html#returning-a-view-versus-a-copy\n",
      "  df1[\"Base_Salary\"][i] = float(df1[\"Base_Salary\"][i][0:index] +\n",
      "<ipython-input-17-3cdbd191b9b2>:16: SettingWithCopyWarning: \n",
      "A value is trying to be set on a copy of a slice from a DataFrame\n",
      "\n",
      "See the caveats in the documentation: https://pandas.pydata.org/pandas-docs/stable/user_guide/indexing.html#returning-a-view-versus-a-copy\n",
      "  df1[\"Base_Salary\"][i] = float(df1[\"Base_Salary\"][i][0:index] +\n",
      "<ipython-input-17-3cdbd191b9b2>:5: SettingWithCopyWarning: \n",
      "A value is trying to be set on a copy of a slice from a DataFrame\n",
      "\n",
      "See the caveats in the documentation: https://pandas.pydata.org/pandas-docs/stable/user_guide/indexing.html#returning-a-view-versus-a-copy\n",
      "  df1[\"Base_Salary\"][i] = float(df1[\"Base_Salary\"][i][0:len(df1[\"Base_Salary\"][i])-3]) * 40 * 2 * 27\n",
      "<ipython-input-17-3cdbd191b9b2>:12: SettingWithCopyWarning: \n",
      "A value is trying to be set on a copy of a slice from a DataFrame\n",
      "\n",
      "See the caveats in the documentation: https://pandas.pydata.org/pandas-docs/stable/user_guide/indexing.html#returning-a-view-versus-a-copy\n",
      "  df1[\"Base_Salary\"][i] = float(df1[\"Base_Salary\"][i][0:len(df1[\"Base_Salary\"][i])-3]) * 27\n"
     ]
    }
   ],
   "source": [
    "for i in range(0,1000):\n",
    "    if(\"TERMINATED\" in df1[\"Base_Salary\"][i]):\n",
    "        df1[\"Base_Salary\"][i] = float(17 * 40 * 2 * 27)\n",
    "    elif(\"HR\" in df1[\"Base_Salary\"][i]):\n",
    "        df1[\"Base_Salary\"][i] = float(df1[\"Base_Salary\"][i][0:len(df1[\"Base_Salary\"][i])-3]) * 40 * 2 * 27    \n",
    "    elif(\"BW\" in df1[\"Base_Salary\"][i]):\n",
    "        index = df1[\"Base_Salary\"][i].find(\",\")\n",
    "        if(index!=-1):\n",
    "            df1[\"Base_Salary\"][i] = float(df1[\"Base_Salary\"][i][0:index] + \n",
    "                                      df1[\"Base_Salary\"][i][index+1:len(df1[\"Base_Salary\"][i])-3]) * 27\n",
    "        else:\n",
    "            df1[\"Base_Salary\"][i] = float(df1[\"Base_Salary\"][i][0:len(df1[\"Base_Salary\"][i])-3]) * 27  \n",
    "    elif(\"YR\" in df1[\"Base_Salary\"][i]):\n",
    "        index = df1[\"Base_Salary\"][16].find(\",\")\n",
    "        if(index!=-1):\n",
    "            df1[\"Base_Salary\"][i] = float(df1[\"Base_Salary\"][i][0:index] + \n",
    "                                          df1[\"Base_Salary\"][i][index+1:len(df1[\"Base_Salary\"][i])-3])"
   ]
  },
  {
   "cell_type": "code",
   "execution_count": 126,
   "metadata": {
    "slideshow": {
     "slide_type": "skip"
    }
   },
   "outputs": [],
   "source": [
    "df1.to_csv(\"D:\\\\download\\\\Materials\\\\Exp.csv\",index=False)"
   ]
  },
  {
   "cell_type": "code",
   "execution_count": 5,
   "metadata": {
    "slideshow": {
     "slide_type": "skip"
    }
   },
   "outputs": [],
   "source": [
    "df1 = pd.read_csv('D:\\\\download\\\\Materials\\\\Exp.csv',engine='python')"
   ]
  },
  {
   "cell_type": "markdown",
   "metadata": {},
   "source": [
    "$\\large \\text{Statistic of Iowa Salary Book}$"
   ]
  },
  {
   "cell_type": "code",
   "execution_count": 6,
   "metadata": {
    "slideshow": {
     "slide_type": "slide"
    }
   },
   "outputs": [
    {
     "data": {
      "text/html": [
       "<div>\n",
       "<style scoped>\n",
       "    .dataframe tbody tr th:only-of-type {\n",
       "        vertical-align: middle;\n",
       "    }\n",
       "\n",
       "    .dataframe tbody tr th {\n",
       "        vertical-align: top;\n",
       "    }\n",
       "\n",
       "    .dataframe thead th {\n",
       "        text-align: right;\n",
       "    }\n",
       "</style>\n",
       "<table border=\"1\" class=\"dataframe\">\n",
       "  <thead>\n",
       "    <tr style=\"text-align: right;\">\n",
       "      <th></th>\n",
       "      <th>Year</th>\n",
       "      <th>Base_Salary</th>\n",
       "    </tr>\n",
       "  </thead>\n",
       "  <tbody>\n",
       "    <tr>\n",
       "      <th>count</th>\n",
       "      <td>1000.0</td>\n",
       "      <td>1000.000000</td>\n",
       "    </tr>\n",
       "    <tr>\n",
       "      <th>mean</th>\n",
       "      <td>2007.0</td>\n",
       "      <td>48926.072000</td>\n",
       "    </tr>\n",
       "    <tr>\n",
       "      <th>std</th>\n",
       "      <td>0.0</td>\n",
       "      <td>20790.002466</td>\n",
       "    </tr>\n",
       "    <tr>\n",
       "      <th>min</th>\n",
       "      <td>2007.0</td>\n",
       "      <td>23565.600000</td>\n",
       "    </tr>\n",
       "    <tr>\n",
       "      <th>25%</th>\n",
       "      <td>2007.0</td>\n",
       "      <td>36720.000000</td>\n",
       "    </tr>\n",
       "    <tr>\n",
       "      <th>50%</th>\n",
       "      <td>2007.0</td>\n",
       "      <td>36720.000000</td>\n",
       "    </tr>\n",
       "    <tr>\n",
       "      <th>75%</th>\n",
       "      <td>2007.0</td>\n",
       "      <td>56435.400000</td>\n",
       "    </tr>\n",
       "    <tr>\n",
       "      <th>max</th>\n",
       "      <td>2007.0</td>\n",
       "      <td>144200.000000</td>\n",
       "    </tr>\n",
       "  </tbody>\n",
       "</table>\n",
       "</div>"
      ],
      "text/plain": [
       "         Year    Base_Salary\n",
       "count  1000.0    1000.000000\n",
       "mean   2007.0   48926.072000\n",
       "std       0.0   20790.002466\n",
       "min    2007.0   23565.600000\n",
       "25%    2007.0   36720.000000\n",
       "50%    2007.0   36720.000000\n",
       "75%    2007.0   56435.400000\n",
       "max    2007.0  144200.000000"
      ]
     },
     "execution_count": 6,
     "metadata": {},
     "output_type": "execute_result"
    }
   ],
   "source": [
    "df1.describe()"
   ]
  },
  {
   "cell_type": "markdown",
   "metadata": {},
   "source": [
    "$\\large \\text{Starting to Gain Some Insight of Ames Housing Dataset Through Statistic}$"
   ]
  },
  {
   "cell_type": "code",
   "execution_count": 3,
   "metadata": {
    "slideshow": {
     "slide_type": "slide"
    }
   },
   "outputs": [
    {
     "data": {
      "text/plain": [
       "Index(['Order', 'PID', 'MS_SubClass', 'MS_Zoning', 'Lot_Frontage', 'Lot_Area',\n",
       "       'Street', 'Alley', 'Lot_Shape', 'Land_Contour', 'Utilities',\n",
       "       'Lot_Config', 'Land_Slope', 'Neighborhood', 'Condition_1',\n",
       "       'Condition_2', 'Bldg_Type', 'House_Style', 'Overall_Qual',\n",
       "       'Overall_Cond', 'Year_Built', 'Year_Remod_Add', 'Roof_Style',\n",
       "       'Roof_Matl', 'Exterior_1st', 'Exterior_2nd', 'Mas_Vnr_Type',\n",
       "       'Mas_Vnr_Area', 'Exter_Qual', 'Exter_Cond', 'Foundation', 'Bsmt _Qual',\n",
       "       'Bsmt _Cond', 'Bsmt_Exposure', 'BsmtFin_Type_1', 'BsmtFin_SF_1',\n",
       "       'BsmtFin_Type_2', 'BsmtFin_SF_2', 'Bsmt_Unf_SF', 'Total_Bsmt_SF',\n",
       "       'Heating', 'Heating_QC', 'Central_Air', 'Electrical', '1st_Flr_SF',\n",
       "       '2nd_Flr_SF', 'Low_Qual_Fin_SF', 'Gr_Liv_Area', 'Bsmt_Full_Bath',\n",
       "       'Bsmt_Half_Bath', 'Full_Bath', 'Half_Bath', 'Bedroom_AbvGr',\n",
       "       'Kitchen_AbvGr', 'Kitchen_Qual', 'TotRms_AbvGrd', 'Functional',\n",
       "       'Fireplaces', 'Fireplace_Qu', 'Garage_Type', 'Garage_Yr_Blt',\n",
       "       'Garage_Finish', 'Garage_Cars', 'Garage_Area', 'Garage_Qual',\n",
       "       'Garage_Cond', 'Paved_Drive', 'Wood_Deck_SF', 'Open_Porch_SF',\n",
       "       'Enclosed_Porch', '3Ssn_Porch', 'Screen_Porch', 'Pool_Area', 'Pool_QC',\n",
       "       'Fence', 'Misc_Feature', 'Misc_Val', 'Mo_Sold', 'Yr_Sold', 'Sale_Type',\n",
       "       'Sale_Condition', 'SalePrice'],\n",
       "      dtype='object')"
      ]
     },
     "execution_count": 3,
     "metadata": {},
     "output_type": "execute_result"
    }
   ],
   "source": [
    "#read in data\n",
    "df = pd.read_csv('D:\\\\download\\\\Materials\\\\AmesHousing.csv')\n",
    "df.head()\n",
    "df.columns"
   ]
  },
  {
   "cell_type": "markdown",
   "metadata": {},
   "source": [
    "$\\large \\text{Histogram of Sale Price}$"
   ]
  },
  {
   "cell_type": "code",
   "execution_count": 11,
   "metadata": {
    "slideshow": {
     "slide_type": "slide"
    }
   },
   "outputs": [
    {
     "name": "stdout",
     "output_type": "stream",
     "text": [
      "Skewness: 1.7435000757376466\n"
     ]
    },
    {
     "data": {
      "image/png": "[encoded data removed]",
      "text/plain": [
       "<Figure size 432x288 with 1 Axes>"
      ]
     },
     "metadata": {
      "needs_background": "light"
     },
     "output_type": "display_data"
    }
   ],
   "source": [
    "plt.hist(df.SalePrice)\n",
    "print(\"Skewness:\", df.SalePrice.skew())"
   ]
  },
  {
   "cell_type": "code",
   "execution_count": 21,
   "metadata": {
    "slideshow": {
     "slide_type": "notes"
    }
   },
   "outputs": [
    {
     "name": "stdout",
     "output_type": "stream",
     "text": [
      "['Overall_Qual', 'Year_Built', 'Year_Remod_Add', 'Mas_Vnr_Area', 'Total_Bsmt_SF', '1st_Flr_SF', 'Gr_Liv_Area', 'Full_Bath', 'Garage_Yr_Blt', 'Garage_Cars', 'Garage_Area', 'TotRms_AbvGrd']\n"
     ]
    }
   ],
   "source": [
    "#getting the correlations between different features\n",
    "correlation = df.corr(method ='pearson')\n",
    "name = correlation.columns\n",
    "name = name.drop(['SalePrice'])\n",
    "correlation = correlation.drop(columns=name)\n",
    "indexName = []\n",
    "for i in range(0,39):\n",
    "    if(correlation[\"SalePrice\"][i]>0.5):\n",
    "        indexName.append(correlation.index.values[i])\n",
    "indexName.append(\"TotRms_AbvGrd\")\n",
    "indexName.remove(\"SalePrice\")\n",
    "print(indexName)"
   ]
  },
  {
   "cell_type": "markdown",
   "metadata": {},
   "source": [
    "$\\large \\text{Correlation Table}$"
   ]
  },
  {
   "cell_type": "code",
   "execution_count": 11,
   "metadata": {
    "slideshow": {
     "slide_type": "slide"
    }
   },
   "outputs": [
    {
     "data": {
      "text/plain": [
       "SalePrice          1.000000\n",
       "Overall_Qual       0.799262\n",
       "Gr_Liv_Area        0.706780\n",
       "Garage_Cars        0.647877\n",
       "Garage_Area        0.640401\n",
       "Total_Bsmt_SF      0.632280\n",
       "1st_Flr_SF         0.621676\n",
       "Year_Built         0.558426\n",
       "Full_Bath          0.545604\n",
       "Year_Remod_Add     0.532974\n",
       "Garage_Yr_Blt      0.526965\n",
       "Mas_Vnr_Area       0.508285\n",
       "TotRms_AbvGrd      0.495474\n",
       "Fireplaces         0.474558\n",
       "BsmtFin_SF_1       0.432914\n",
       "Lot_Frontage       0.357318\n",
       "Wood_Deck_SF       0.327143\n",
       "Open_Porch_SF      0.312951\n",
       "Half_Bath          0.285056\n",
       "Bsmt_Full_Bath     0.276050\n",
       "2nd_Flr_SF         0.269373\n",
       "Lot_Area           0.266549\n",
       "Bsmt_Unf_SF        0.182855\n",
       "Bedroom_AbvGr      0.143913\n",
       "Screen_Porch       0.112151\n",
       "Pool_Area          0.068403\n",
       "Mo_Sold            0.035259\n",
       "3Ssn_Porch         0.032225\n",
       "BsmtFin_SF_2       0.005891\n",
       "Misc_Val          -0.015691\n",
       "Yr_Sold           -0.030569\n",
       "Order             -0.031408\n",
       "Bsmt_Half_Bath    -0.035835\n",
       "Low_Qual_Fin_SF   -0.037660\n",
       "MS_SubClass       -0.085092\n",
       "Overall_Cond      -0.101697\n",
       "Kitchen_AbvGr     -0.119814\n",
       "Enclosed_Porch    -0.128787\n",
       "PID               -0.246521\n",
       "Name: SalePrice, dtype: float64"
      ]
     },
     "execution_count": 11,
     "metadata": {},
     "output_type": "execute_result"
    }
   ],
   "source": [
    "correlation[\"SalePrice\"].sort_values(ascending=False)"
   ]
  },
  {
   "cell_type": "markdown",
   "metadata": {},
   "source": [
    "$\\large \\text{Overall Quality Graph}$"
   ]
  },
  {
   "cell_type": "code",
   "execution_count": 9,
   "metadata": {
    "slideshow": {
     "slide_type": "slide"
    }
   },
   "outputs": [
    {
     "data": {
      "text/html": [
       "<div>\n",
       "<style scoped>\n",
       "    .dataframe tbody tr th:only-of-type {\n",
       "        vertical-align: middle;\n",
       "    }\n",
       "\n",
       "    .dataframe tbody tr th {\n",
       "        vertical-align: top;\n",
       "    }\n",
       "\n",
       "    .dataframe thead th {\n",
       "        text-align: right;\n",
       "    }\n",
       "</style>\n",
       "<table border=\"1\" class=\"dataframe\">\n",
       "  <thead>\n",
       "    <tr style=\"text-align: right;\">\n",
       "      <th></th>\n",
       "      <th>SalePrice</th>\n",
       "    </tr>\n",
       "    <tr>\n",
       "      <th>Overall_Qual</th>\n",
       "      <th></th>\n",
       "    </tr>\n",
       "  </thead>\n",
       "  <tbody>\n",
       "    <tr>\n",
       "      <th>1</th>\n",
       "      <td>50150.0</td>\n",
       "    </tr>\n",
       "    <tr>\n",
       "      <th>2</th>\n",
       "      <td>57625.0</td>\n",
       "    </tr>\n",
       "    <tr>\n",
       "      <th>3</th>\n",
       "      <td>81200.0</td>\n",
       "    </tr>\n",
       "    <tr>\n",
       "      <th>4</th>\n",
       "      <td>105000.0</td>\n",
       "    </tr>\n",
       "    <tr>\n",
       "      <th>5</th>\n",
       "      <td>133000.0</td>\n",
       "    </tr>\n",
       "    <tr>\n",
       "      <th>6</th>\n",
       "      <td>159500.0</td>\n",
       "    </tr>\n",
       "    <tr>\n",
       "      <th>7</th>\n",
       "      <td>200000.0</td>\n",
       "    </tr>\n",
       "    <tr>\n",
       "      <th>8</th>\n",
       "      <td>264530.5</td>\n",
       "    </tr>\n",
       "    <tr>\n",
       "      <th>9</th>\n",
       "      <td>360000.0</td>\n",
       "    </tr>\n",
       "    <tr>\n",
       "      <th>10</th>\n",
       "      <td>451950.0</td>\n",
       "    </tr>\n",
       "  </tbody>\n",
       "</table>\n",
       "</div>"
      ],
      "text/plain": [
       "              SalePrice\n",
       "Overall_Qual           \n",
       "1               50150.0\n",
       "2               57625.0\n",
       "3               81200.0\n",
       "4              105000.0\n",
       "5              133000.0\n",
       "6              159500.0\n",
       "7              200000.0\n",
       "8              264530.5\n",
       "9              360000.0\n",
       "10             451950.0"
      ]
     },
     "execution_count": 9,
     "metadata": {},
     "output_type": "execute_result"
    }
   ],
   "source": [
    "quality_pivot = df.pivot_table(index='Overall_Qual',\n",
    "                  values='SalePrice', aggfunc=np.median)\n",
    "quality_pivot"
   ]
  },
  {
   "cell_type": "code",
   "execution_count": 16,
   "metadata": {
    "slideshow": {
     "slide_type": "subslide"
    }
   },
   "outputs": [
    {
     "data": {
      "image/png": "[encoded data removed]",
      "text/plain": [
       "<Figure size 432x288 with 1 Axes>"
      ]
     },
     "metadata": {
      "needs_background": "light"
     },
     "output_type": "display_data"
    }
   ],
   "source": [
    "quality_pivot.plot(kind='bar', color='blue')\n",
    "plt.xlabel('Overall Quality')\n",
    "plt.ylabel('Median Sale Price')\n",
    "plt.xticks(rotation=0)\n",
    "plt.show()"
   ]
  },
  {
   "cell_type": "markdown",
   "metadata": {},
   "source": [
    "$\\large \\text{Above Ground Living Area Graph}$"
   ]
  },
  {
   "cell_type": "code",
   "execution_count": 9,
   "metadata": {
    "slideshow": {
     "slide_type": "slide"
    }
   },
   "outputs": [
    {
     "data": {
      "text/plain": [
       "Text(0, 0.5, 'Sale price')"
      ]
     },
     "execution_count": 9,
     "metadata": {},
     "output_type": "execute_result"
    },
    {
     "data": {
      "image/png": "[encoded data removed]",
      "text/plain": [
       "<Figure size 432x288 with 1 Axes>"
      ]
     },
     "metadata": {
      "needs_background": "light"
     },
     "output_type": "display_data"
    }
   ],
   "source": [
    "plt.scatter(df.Gr_Liv_Area,df.SalePrice)\n",
    "plt.xlabel(\"Above ground living area\")\n",
    "plt.ylabel(\"Sale price\")"
   ]
  },
  {
   "cell_type": "markdown",
   "metadata": {},
   "source": [
    "$\\large \\text{Garage Cars Graph}$"
   ]
  },
  {
   "cell_type": "code",
   "execution_count": 13,
   "metadata": {
    "slideshow": {
     "slide_type": "slide"
    }
   },
   "outputs": [
    {
     "data": {
      "image/png": "[encoded data removed]",
      "text/plain": [
       "<Figure size 432x288 with 1 Axes>"
      ]
     },
     "metadata": {
      "needs_background": "light"
     },
     "output_type": "display_data"
    }
   ],
   "source": [
    "quality_pivot = df.pivot_table(index='Garage_Cars',\n",
    "                  values='SalePrice', aggfunc=np.median)\n",
    "quality_pivot.plot(kind='bar', color='blue')\n",
    "plt.xlabel('Garage Cars')\n",
    "plt.ylabel('Median Sale Price')\n",
    "plt.xticks(rotation=0)\n",
    "plt.show()"
   ]
  },
  {
   "cell_type": "markdown",
   "metadata": {},
   "source": [
    "$\\large \\text{Garage Area Graph}$"
   ]
  },
  {
   "cell_type": "code",
   "execution_count": 14,
   "metadata": {
    "slideshow": {
     "slide_type": "slide"
    }
   },
   "outputs": [
    {
     "data": {
      "image/png": "[encoded data removed]",
      "text/plain": [
       "<Figure size 432x288 with 1 Axes>"
      ]
     },
     "metadata": {
      "needs_background": "light"
     },
     "output_type": "display_data"
    }
   ],
   "source": [
    "plt.scatter(x=df['Garage_Area'], y=df['SalePrice'])\n",
    "plt.ylabel('Sale Price')\n",
    "plt.xlabel('Garage Area')\n",
    "plt.show()"
   ]
  },
  {
   "cell_type": "code",
   "execution_count": 27,
   "metadata": {
    "slideshow": {
     "slide_type": "skip"
    }
   },
   "outputs": [
    {
     "data": {
      "text/plain": [
       "Index(['Order', 'PID', 'MS_SubClass', 'MS_Zoning', 'Lot_Area', 'Street',\n",
       "       'Lot_Shape', 'Land_Contour', 'Utilities', 'Lot_Config', 'Land_Slope',\n",
       "       'Neighborhood', 'Condition_1', 'Condition_2', 'Bldg_Type',\n",
       "       'House_Style', 'Overall_Qual', 'Overall_Cond', 'Year_Built',\n",
       "       'Year_Remod_Add', 'Roof_Style', 'Roof_Matl', 'Exterior_1st',\n",
       "       'Exterior_2nd', 'Exter_Qual', 'Exter_Cond', 'Foundation', 'Heating',\n",
       "       'Heating_QC', 'Central_Air', '1st_Flr_SF', '2nd_Flr_SF',\n",
       "       'Low_Qual_Fin_SF', 'Gr_Liv_Area', 'Full_Bath', 'Half_Bath',\n",
       "       'Bedroom_AbvGr', 'Kitchen_AbvGr', 'Kitchen_Qual', 'TotRms_AbvGrd',\n",
       "       'Functional', 'Fireplaces', 'Paved_Drive', 'Wood_Deck_SF',\n",
       "       'Open_Porch_SF', 'Enclosed_Porch', '3Ssn_Porch', 'Screen_Porch',\n",
       "       'Pool_Area', 'Misc_Val', 'Mo_Sold', 'Yr_Sold', 'Sale_Type',\n",
       "       'Sale_Condition', 'SalePrice', 'num_street', 'num_sale_cond'],\n",
       "      dtype='object')"
      ]
     },
     "execution_count": 27,
     "metadata": {},
     "output_type": "execute_result"
    }
   ],
   "source": [
    "df.columns"
   ]
  },
  {
   "cell_type": "code",
   "execution_count": 67,
   "metadata": {
    "slideshow": {
     "slide_type": "slide"
    }
   },
   "outputs": [
    {
     "data": {
      "text/plain": [
       "MS_Zoning         object\n",
       "Street            object\n",
       "Alley             object\n",
       "Lot_Shape         object\n",
       "Land_Contour      object\n",
       "Utilities         object\n",
       "Lot_Config        object\n",
       "Land_Slope        object\n",
       "Neighborhood      object\n",
       "Condition_1       object\n",
       "Condition_2       object\n",
       "Bldg_Type         object\n",
       "House_Style       object\n",
       "Roof_Style        object\n",
       "Roof_Matl         object\n",
       "Exterior_1st      object\n",
       "Exterior_2nd      object\n",
       "Mas_Vnr_Type      object\n",
       "Exter_Qual        object\n",
       "Exter_Cond        object\n",
       "Foundation        object\n",
       "Bsmt _Qual        object\n",
       "Bsmt _Cond        object\n",
       "Bsmt_Exposure     object\n",
       "BsmtFin_Type_1    object\n",
       "BsmtFin_Type_2    object\n",
       "Heating           object\n",
       "Heating_QC        object\n",
       "Central_Air       object\n",
       "Electrical        object\n",
       "Kitchen_Qual      object\n",
       "Functional        object\n",
       "Fireplace_Qu      object\n",
       "Garage_Type       object\n",
       "Garage_Finish     object\n",
       "Garage_Qual       object\n",
       "Garage_Cond       object\n",
       "Paved_Drive       object\n",
       "Pool_QC           object\n",
       "Fence             object\n",
       "Misc_Feature      object\n",
       "Sale_Type         object\n",
       "Sale_Condition    object\n",
       "dtype: object"
      ]
     },
     "execution_count": 67,
     "metadata": {},
     "output_type": "execute_result"
    }
   ],
   "source": [
    "df.select_dtypes(exclude=[np.number]).dtypes"
   ]
  },
  {
   "cell_type": "markdown",
   "metadata": {},
   "source": [
    "$\\large \\text{Statistic of Nonnumeric Features}$"
   ]
  },
  {
   "cell_type": "code",
   "execution_count": 40,
   "metadata": {
    "slideshow": {
     "slide_type": "slide"
    }
   },
   "outputs": [
    {
     "name": "stdout",
     "output_type": "stream",
     "text": [
      "Pave    2918\n",
      "Grvl      12\n",
      "Name: Street, dtype: int64 \n",
      "\n"
     ]
    }
   ],
   "source": [
    "print (df.Street.value_counts(), \"\\n\")"
   ]
  },
  {
   "cell_type": "code",
   "execution_count": 8,
   "metadata": {
    "slideshow": {
     "slide_type": "subslide"
    }
   },
   "outputs": [],
   "source": [
    "saleP = []\n",
    "saleG = []\n",
    "for e in range(0,2930):\n",
    "    if(df[\"Street\"][e]==\"Pave\"):\n",
    "        saleP.append(df[\"SalePrice\"][e])\n",
    "    else:\n",
    "        saleG.append(df[\"SalePrice\"][e])"
   ]
  },
  {
   "cell_type": "code",
   "execution_count": 9,
   "metadata": {
    "slideshow": {
     "slide_type": "slide"
    }
   },
   "outputs": [
    {
     "name": "stdout",
     "output_type": "stream",
     "text": [
      "Min Pave Street Price 12789\n",
      "Max Pave Street Price 755000\n"
     ]
    },
    {
     "data": {
      "image/png": "[encoded data removed]",
      "text/plain": [
       "<Figure size 432x288 with 1 Axes>"
      ]
     },
     "metadata": {
      "needs_background": "light"
     },
     "output_type": "display_data"
    }
   ],
   "source": [
    "plt.boxplot(saleP)\n",
    "plt.title(\"Pave street price\")\n",
    "print(\"Min Pave Street Price\", min(saleP))\n",
    "print(\"Max Pave Street Price\", max(saleP))"
   ]
  },
  {
   "cell_type": "code",
   "execution_count": 10,
   "metadata": {
    "slideshow": {
     "slide_type": "slide"
    }
   },
   "outputs": [
    {
     "name": "stdout",
     "output_type": "stream",
     "text": [
      "Min Gravel Street Price 50138\n",
      "Max Gravel Street Price 228950\n"
     ]
    },
    {
     "data": {
      "image/png": "[encoded data removed]",
      "text/plain": [
       "<Figure size 432x288 with 1 Axes>"
      ]
     },
     "metadata": {
      "needs_background": "light"
     },
     "output_type": "display_data"
    }
   ],
   "source": [
    "plt.boxplot(saleG)\n",
    "plt.title(\"Gravel street price\")\n",
    "print(\"Min Gravel Street Price\", min(saleG))\n",
    "print(\"Max Gravel Street Price\", max(saleG))"
   ]
  },
  {
   "cell_type": "code",
   "execution_count": 17,
   "metadata": {
    "slideshow": {
     "slide_type": "subslide"
    }
   },
   "outputs": [
    {
     "name": "stdout",
     "output_type": "stream",
     "text": [
      "min gravel street price: 50138\n",
      "min paved street price: 12789\n"
     ]
    }
   ],
   "source": [
    "print(\"min gravel street price:\", min(saleG))\n",
    "print(\"min paved street price:\", min(saleP))"
   ]
  },
  {
   "cell_type": "code",
   "execution_count": 5,
   "metadata": {
    "slideshow": {
     "slide_type": "fragment"
    }
   },
   "outputs": [],
   "source": [
    "df['num_street'] = pd.get_dummies(df.Street, drop_first=True)"
   ]
  },
  {
   "cell_type": "code",
   "execution_count": 30,
   "metadata": {
    "slideshow": {
     "slide_type": "fragment"
    }
   },
   "outputs": [
    {
     "name": "stdout",
     "output_type": "stream",
     "text": [
      "1    2918\n",
      "0      12\n",
      "Name: num_street, dtype: int64 \n",
      "\n"
     ]
    }
   ],
   "source": [
    "print (df.num_street.value_counts(), \"\\n\")"
   ]
  },
  {
   "cell_type": "code",
   "execution_count": 64,
   "metadata": {
    "slideshow": {
     "slide_type": "slide"
    }
   },
   "outputs": [
    {
     "data": {
      "image/png": "[encoded data removed]",
      "text/plain": [
       "<Figure size 432x288 with 1 Axes>"
      ]
     },
     "metadata": {
      "needs_background": "light"
     },
     "output_type": "display_data"
    }
   ],
   "source": [
    "condition_pivot = df.pivot_table(index='Sale_Condition', values='SalePrice', aggfunc=np.median)\n",
    "condition_pivot.plot(kind='bar', color='blue')\n",
    "plt.xlabel('Sale Condition')\n",
    "plt.ylabel('Median Sale Price')\n",
    "plt.xticks(rotation=0)\n",
    "plt.show()"
   ]
  },
  {
   "cell_type": "code",
   "execution_count": 6,
   "metadata": {
    "slideshow": {
     "slide_type": "slide"
    }
   },
   "outputs": [
    {
     "name": "stderr",
     "output_type": "stream",
     "text": [
      "<ipython-input-6-583a70ed48b8>:6: SettingWithCopyWarning: \n",
      "A value is trying to be set on a copy of a slice from a DataFrame\n",
      "\n",
      "See the caveats in the documentation: https://pandas.pydata.org/pandas-docs/stable/user_guide/indexing.html#returning-a-view-versus-a-copy\n",
      "  df[\"num_sale_cond\"][i] = 1\n",
      "<ipython-input-6-583a70ed48b8>:4: SettingWithCopyWarning: \n",
      "A value is trying to be set on a copy of a slice from a DataFrame\n",
      "\n",
      "See the caveats in the documentation: https://pandas.pydata.org/pandas-docs/stable/user_guide/indexing.html#returning-a-view-versus-a-copy\n",
      "  df[\"num_sale_cond\"][i] = 0\n"
     ]
    }
   ],
   "source": [
    "df[\"num_sale_cond\"] = df[\"Sale_Condition\"]\n",
    "for i in range(0,2930):\n",
    "    if(\"Partial\" in df[\"Sale_Condition\"][i]):\n",
    "        df[\"num_sale_cond\"][i] = 0\n",
    "    else:\n",
    "        df[\"num_sale_cond\"][i] = 1"
   ]
  },
  {
   "cell_type": "code",
   "execution_count": 71,
   "metadata": {
    "slideshow": {
     "slide_type": "slide"
    }
   },
   "outputs": [
    {
     "name": "stdout",
     "output_type": "stream",
     "text": [
      "1    2685\n",
      "0     245\n",
      "Name: num_sale_cond, dtype: int64 \n",
      "\n"
     ]
    }
   ],
   "source": [
    "print (df.num_sale_cond.value_counts(), \"\\n\")"
   ]
  },
  {
   "cell_type": "code",
   "execution_count": 72,
   "metadata": {
    "slideshow": {
     "slide_type": "slide"
    }
   },
   "outputs": [
    {
     "name": "stdout",
     "output_type": "stream",
     "text": [
      "Normal     2413\n",
      "Partial     245\n",
      "Abnorml     190\n",
      "Family       46\n",
      "Alloca       24\n",
      "AdjLand      12\n",
      "Name: Sale_Condition, dtype: int64 \n",
      "\n"
     ]
    }
   ],
   "source": [
    "print (df.Sale_Condition.value_counts(), \"\\n\")"
   ]
  },
  {
   "cell_type": "code",
   "execution_count": 82,
   "metadata": {
    "slideshow": {
     "slide_type": "skip"
    }
   },
   "outputs": [
    {
     "data": {
      "text/plain": [
       "<bound method Series.mean of 0       1080.0\n",
       "1        882.0\n",
       "2       1329.0\n",
       "3       2110.0\n",
       "4        928.0\n",
       "         ...  \n",
       "2925    1003.0\n",
       "2926     864.0\n",
       "2927     912.0\n",
       "2928    1389.0\n",
       "2929     996.0\n",
       "Name: Total_Bsmt_SF, Length: 2930, dtype: float64>"
      ]
     },
     "execution_count": 82,
     "metadata": {},
     "output_type": "execute_result"
    }
   ],
   "source": [
    "df.Total_Bsmt_SF.mean"
   ]
  },
  {
   "cell_type": "code",
   "execution_count": 83,
   "metadata": {
    "slideshow": {
     "slide_type": "skip"
    }
   },
   "outputs": [
    {
     "data": {
      "text/plain": [
       "<bound method Series.median of 0       1080.0\n",
       "1        882.0\n",
       "2       1329.0\n",
       "3       2110.0\n",
       "4        928.0\n",
       "         ...  \n",
       "2925    1003.0\n",
       "2926     864.0\n",
       "2927     912.0\n",
       "2928    1389.0\n",
       "2929     996.0\n",
       "Name: Total_Bsmt_SF, Length: 2930, dtype: float64>"
      ]
     },
     "execution_count": 83,
     "metadata": {},
     "output_type": "execute_result"
    }
   ],
   "source": [
    "df.Total_Bsmt_SF.median"
   ]
  },
  {
   "cell_type": "code",
   "execution_count": 96,
   "metadata": {
    "slideshow": {
     "slide_type": "skip"
    }
   },
   "outputs": [
    {
     "data": {
      "text/plain": [
       "<bound method Series.mean of 0       2.0\n",
       "1       1.0\n",
       "2       1.0\n",
       "3       2.0\n",
       "4       2.0\n",
       "       ... \n",
       "2925    2.0\n",
       "2926    2.0\n",
       "2927    0.0\n",
       "2928    2.0\n",
       "2929    3.0\n",
       "Name: Garage_Cars, Length: 2930, dtype: float64>"
      ]
     },
     "execution_count": 96,
     "metadata": {},
     "output_type": "execute_result"
    }
   ],
   "source": [
    "df.Garage_Cars.mean"
   ]
  },
  {
   "cell_type": "code",
   "execution_count": 98,
   "metadata": {
    "slideshow": {
     "slide_type": "skip"
    }
   },
   "outputs": [
    {
     "data": {
      "text/plain": [
       "<bound method Series.mean of 0       528.0\n",
       "1       730.0\n",
       "2       312.0\n",
       "3       522.0\n",
       "4       482.0\n",
       "        ...  \n",
       "2925    588.0\n",
       "2926    484.0\n",
       "2927      0.0\n",
       "2928    418.0\n",
       "2929    650.0\n",
       "Name: Garage_Area, Length: 2930, dtype: float64>"
      ]
     },
     "execution_count": 98,
     "metadata": {},
     "output_type": "execute_result"
    }
   ],
   "source": [
    "df.Garage_Area.mean"
   ]
  },
  {
   "cell_type": "code",
   "execution_count": 78,
   "metadata": {
    "slideshow": {
     "slide_type": "skip"
    }
   },
   "outputs": [
    {
     "data": {
      "text/plain": [
       "<bound method Series.mean of 0       141.0\n",
       "1        80.0\n",
       "2        81.0\n",
       "3        93.0\n",
       "4        74.0\n",
       "        ...  \n",
       "2925     37.0\n",
       "2926    141.0\n",
       "2927     62.0\n",
       "2928     77.0\n",
       "2929     74.0\n",
       "Name: Lot_Frontage, Length: 2930, dtype: float64>"
      ]
     },
     "execution_count": 78,
     "metadata": {},
     "output_type": "execute_result"
    }
   ],
   "source": [
    "df.Lot_Frontage.mean"
   ]
  },
  {
   "cell_type": "code",
   "execution_count": 81,
   "metadata": {
    "slideshow": {
     "slide_type": "skip"
    }
   },
   "outputs": [
    {
     "data": {
      "text/plain": [
       "<bound method Series.mean of 0       112.0\n",
       "1         0.0\n",
       "2       108.0\n",
       "3         0.0\n",
       "4         0.0\n",
       "        ...  \n",
       "2925      0.0\n",
       "2926      0.0\n",
       "2927      0.0\n",
       "2928      0.0\n",
       "2929     94.0\n",
       "Name: Mas_Vnr_Area, Length: 2930, dtype: float64>"
      ]
     },
     "execution_count": 81,
     "metadata": {},
     "output_type": "execute_result"
    }
   ],
   "source": [
    "df.Mas_Vnr_Area.mean"
   ]
  },
  {
   "cell_type": "code",
   "execution_count": 84,
   "metadata": {
    "slideshow": {
     "slide_type": "skip"
    }
   },
   "outputs": [
    {
     "data": {
      "text/plain": [
       "<bound method Series.mean of 0        639.0\n",
       "1        468.0\n",
       "2        923.0\n",
       "3       1065.0\n",
       "4        791.0\n",
       "         ...  \n",
       "2925     819.0\n",
       "2926     301.0\n",
       "2927     337.0\n",
       "2928    1071.0\n",
       "2929     758.0\n",
       "Name: BsmtFin_SF_1, Length: 2930, dtype: float64>"
      ]
     },
     "execution_count": 84,
     "metadata": {},
     "output_type": "execute_result"
    }
   ],
   "source": [
    "df.BsmtFin_SF_1.mean"
   ]
  },
  {
   "cell_type": "code",
   "execution_count": 87,
   "metadata": {
    "slideshow": {
     "slide_type": "subslide"
    }
   },
   "outputs": [
    {
     "data": {
      "text/plain": [
       "<bound method Series.mean of 0       1.0\n",
       "1       0.0\n",
       "2       0.0\n",
       "3       1.0\n",
       "4       0.0\n",
       "       ... \n",
       "2925    1.0\n",
       "2926    1.0\n",
       "2927    0.0\n",
       "2928    1.0\n",
       "2929    0.0\n",
       "Name: Bsmt_Full_Bath, Length: 2930, dtype: float64>"
      ]
     },
     "execution_count": 87,
     "metadata": {},
     "output_type": "execute_result"
    }
   ],
   "source": [
    "df.Bsmt_Full_Bath.mean"
   ]
  },
  {
   "cell_type": "code",
   "execution_count": 90,
   "metadata": {
    "slideshow": {
     "slide_type": "skip"
    }
   },
   "outputs": [
    {
     "data": {
      "text/plain": [
       "<bound method Series.mean of 0       1960.0\n",
       "1       1961.0\n",
       "2       1958.0\n",
       "3       1968.0\n",
       "4       1997.0\n",
       "         ...  \n",
       "2925    1984.0\n",
       "2926    1983.0\n",
       "2927       NaN\n",
       "2928    1975.0\n",
       "2929    1993.0\n",
       "Name: Garage_Yr_Blt, Length: 2930, dtype: float64>"
      ]
     },
     "execution_count": 90,
     "metadata": {},
     "output_type": "execute_result"
    }
   ],
   "source": [
    "df.Garage_Yr_Blt.mean"
   ]
  },
  {
   "cell_type": "code",
   "execution_count": 1,
   "metadata": {
    "slideshow": {
     "slide_type": "skip"
    }
   },
   "outputs": [
    {
     "ename": "NameError",
     "evalue": "name 'pwd' is not defined",
     "output_type": "error",
     "traceback": [
      "\u001b[1;31m---------------------------------------------------------------------------\u001b[0m",
      "\u001b[1;31mNameError\u001b[0m                                 Traceback (most recent call last)",
      "\u001b[1;32m<ipython-input-1-661587216ce8>\u001b[0m in \u001b[0;36m<module>\u001b[1;34m\u001b[0m\n\u001b[0;32m      7\u001b[0m \u001b[1;31m#textbook\u001b[0m\u001b[1;33m\u001b[0m\u001b[1;33m\u001b[0m\u001b[1;33m\u001b[0m\u001b[0m\n\u001b[0;32m      8\u001b[0m \u001b[1;31m#http://vmls-book.stanford.edu/vmls.pdf\u001b[0m\u001b[1;33m\u001b[0m\u001b[1;33m\u001b[0m\u001b[1;33m\u001b[0m\u001b[0m\n\u001b[1;32m----> 9\u001b[1;33m \u001b[0mpwd\u001b[0m\u001b[1;33m\u001b[0m\u001b[1;33m\u001b[0m\u001b[0m\n\u001b[0m",
      "\u001b[1;31mNameError\u001b[0m: name 'pwd' is not defined"
     ]
    }
   ],
   "source": [
    "#https://towardsdatascience.com/skewed-data-a-problem-to-your-statistical-model-9a6b5bb74e37\n",
    "#explain why skew data is bad for accuracy\n",
    "#ppt generator\n",
    "#https://rise.readthedocs.io/en/stable/\n",
    "#example\n",
    "#https://youtu.be/sXyFa_r1nxA\n",
    "#textbook\n",
    "#http://vmls-book.stanford.edu/vmls.pdf"
   ]
  },
  {
   "cell_type": "code",
   "execution_count": null,
   "metadata": {},
   "outputs": [],
   "source": []
  }
 ],
 "metadata": {
  "kernelspec": {
   "display_name": "Python 3",
   "language": "python",
   "name": "python3"
  },
  "language_info": {
   "codemirror_mode": {
    "name": "ipython",
    "version": 3
   },
   "file_extension": ".py",
   "mimetype": "text/x-python",
   "name": "python",
   "nbconvert_exporter": "python",
   "pygments_lexer": "ipython3",
   "version": "3.8.3"
  }
 },
 "nbformat": 4,
 "nbformat_minor": 4
}
