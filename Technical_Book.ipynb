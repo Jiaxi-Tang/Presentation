{
 "cells": [
  {
   "cell_type": "markdown",
   "metadata": {
    "slideshow": {
     "slide_type": "slide"
    }
   },
   "source": [
    "$\\Large \\textbf{Technical Notebook}$"
   ]
  },
  {
   "cell_type": "code",
   "execution_count": 2,
   "metadata": {
    "slideshow": {
     "slide_type": "skip"
    }
   },
   "outputs": [],
   "source": [
    "import pandas as pd\n",
    "import matplotlib.pyplot as plt\n",
    "import numpy as np\n",
    "from sklearn.model_selection import train_test_split\n",
    "from sklearn import linear_model\n",
    "from sklearn.metrics import mean_squared_error\n",
    "from sklearn.metrics import mean_absolute_error\n",
    "import math"
   ]
  },
  {
   "cell_type": "markdown",
   "metadata": {
    "slideshow": {
     "slide_type": "slide"
    }
   },
   "source": [
    "$\\large \\text{Getting the statistic of Iowa Salary Book}$"
   ]
  },
  {
   "cell_type": "code",
   "execution_count": 4,
   "metadata": {
    "slideshow": {
     "slide_type": "subslide"
    }
   },
   "outputs": [
    {
     "data": {
      "text/plain": [
       "Index(['Fiscal Year', 'Department', 'Agency/Institution', 'Name', 'Gender',\n",
       "       'Place of Residence', 'Position', 'Base Salary', 'Base Salary Date',\n",
       "       'Total Salary Paid', 'Travel & Subsistence'],\n",
       "      dtype='object')"
      ]
     },
     "execution_count": 4,
     "metadata": {},
     "output_type": "execute_result"
    }
   ],
   "source": [
    "# Read in Iowa_Salary_Book dataset\n",
    "df1 = pd.read_csv('D:\\\\download\\\\Materials\\\\State_of_Iowa_Salary_Book.csv',engine='python')\n",
    "df1.columns"
   ]
  },
  {
   "cell_type": "code",
   "execution_count": 15,
   "metadata": {
    "slideshow": {
     "slide_type": "subslide"
    }
   },
   "outputs": [],
   "source": [
    "# Get a slice of the dataset to make data processing more easy\n",
    "df1.sort_values(by=\"Fiscal Year\",ascending=False)\n",
    "df1 = df1.drop([\"Department\",'Agency/Institution',\"Name\",\"Gender\",'Place of Residence','Position','Base Salary Date',\n",
    "          'Total Salary Paid', 'Travel & Subsistence'],axis=1)\n",
    "df1.columns = [\"Year\",\"Base_Salary\"]\n",
    "df1 = df1[0:1000]"
   ]
  },
  {
   "cell_type": "code",
   "execution_count": 90,
   "metadata": {
    "slideshow": {
     "slide_type": "skip"
    }
   },
   "outputs": [],
   "source": [
    "df1.to_csv(\"D:\\\\download\\\\Materials\\\\RevisedSalary.csv\",index=False)"
   ]
  },
  {
   "cell_type": "markdown",
   "metadata": {
    "slideshow": {
     "slide_type": "slide"
    }
   },
   "source": [
    "$\\large \\text{Processing entries in \"Base_Salary\" column to make them represent corresponding annual salary}$"
   ]
  },
  {
   "cell_type": "code",
   "execution_count": 17,
   "metadata": {
    "slideshow": {
     "slide_type": "subslide"
    }
   },
   "outputs": [
    {
     "name": "stderr",
     "output_type": "stream",
     "text": [
      "<ipython-input-17-3cdbd191b9b2>:3: SettingWithCopyWarning: \n",
      "A value is trying to be set on a copy of a slice from a DataFrame\n",
      "\n",
      "See the caveats in the documentation: https://pandas.pydata.org/pandas-docs/stable/user_guide/indexing.html#returning-a-view-versus-a-copy\n",
      "  df1[\"Base_Salary\"][i] = float(17 * 40 * 2 * 27)\n",
      "<ipython-input-17-3cdbd191b9b2>:9: SettingWithCopyWarning: \n",
      "A value is trying to be set on a copy of a slice from a DataFrame\n",
      "\n",
      "See the caveats in the documentation: https://pandas.pydata.org/pandas-docs/stable/user_guide/indexing.html#returning-a-view-versus-a-copy\n",
      "  df1[\"Base_Salary\"][i] = float(df1[\"Base_Salary\"][i][0:index] +\n",
      "<ipython-input-17-3cdbd191b9b2>:16: SettingWithCopyWarning: \n",
      "A value is trying to be set on a copy of a slice from a DataFrame\n",
      "\n",
      "See the caveats in the documentation: https://pandas.pydata.org/pandas-docs/stable/user_guide/indexing.html#returning-a-view-versus-a-copy\n",
      "  df1[\"Base_Salary\"][i] = float(df1[\"Base_Salary\"][i][0:index] +\n",
      "<ipython-input-17-3cdbd191b9b2>:5: SettingWithCopyWarning: \n",
      "A value is trying to be set on a copy of a slice from a DataFrame\n",
      "\n",
      "See the caveats in the documentation: https://pandas.pydata.org/pandas-docs/stable/user_guide/indexing.html#returning-a-view-versus-a-copy\n",
      "  df1[\"Base_Salary\"][i] = float(df1[\"Base_Salary\"][i][0:len(df1[\"Base_Salary\"][i])-3]) * 40 * 2 * 27\n",
      "<ipython-input-17-3cdbd191b9b2>:12: SettingWithCopyWarning: \n",
      "A value is trying to be set on a copy of a slice from a DataFrame\n",
      "\n",
      "See the caveats in the documentation: https://pandas.pydata.org/pandas-docs/stable/user_guide/indexing.html#returning-a-view-versus-a-copy\n",
      "  df1[\"Base_Salary\"][i] = float(df1[\"Base_Salary\"][i][0:len(df1[\"Base_Salary\"][i])-3]) * 27\n"
     ]
    }
   ],
   "source": [
    "for i in range(0,1000):\n",
    "    if(\"TERMINATED\" in df1[\"Base_Salary\"][i]):\n",
    "        df1[\"Base_Salary\"][i] = float(17 * 40 * 2 * 27)\n",
    "    elif(\"HR\" in df1[\"Base_Salary\"][i]):\n",
    "        df1[\"Base_Salary\"][i] = float(df1[\"Base_Salary\"][i][0:len(df1[\"Base_Salary\"][i])-3]) * 40 * 2 * 27    \n",
    "    elif(\"BW\" in df1[\"Base_Salary\"][i]):\n",
    "        index = df1[\"Base_Salary\"][i].find(\",\")\n",
    "        if(index!=-1):\n",
    "            df1[\"Base_Salary\"][i] = float(df1[\"Base_Salary\"][i][0:index] + \n",
    "                                      df1[\"Base_Salary\"][i][index+1:len(df1[\"Base_Salary\"][i])-3]) * 27\n",
    "        else:\n",
    "            df1[\"Base_Salary\"][i] = float(df1[\"Base_Salary\"][i][0:len(df1[\"Base_Salary\"][i])-3]) * 27  \n",
    "    elif(\"YR\" in df1[\"Base_Salary\"][i]):\n",
    "        index = df1[\"Base_Salary\"][16].find(\",\")\n",
    "        if(index!=-1):\n",
    "            df1[\"Base_Salary\"][i] = float(df1[\"Base_Salary\"][i][0:index] + \n",
    "                                          df1[\"Base_Salary\"][i][index+1:len(df1[\"Base_Salary\"][i])-3])"
   ]
  },
  {
   "cell_type": "code",
   "execution_count": 126,
   "metadata": {
    "slideshow": {
     "slide_type": "skip"
    }
   },
   "outputs": [],
   "source": [
    "df1.to_csv(\"D:\\\\download\\\\Materials\\\\Exp.csv\",index=False)"
   ]
  },
  {
   "cell_type": "code",
   "execution_count": 5,
   "metadata": {
    "slideshow": {
     "slide_type": "skip"
    }
   },
   "outputs": [],
   "source": [
    "df1 = pd.read_csv('D:\\\\download\\\\Materials\\\\Exp.csv',engine='python')"
   ]
  },
  {
   "cell_type": "markdown",
   "metadata": {
    "slideshow": {
     "slide_type": "slide"
    }
   },
   "source": [
    "$\\large \\text{Statistic of Iowa Salary Book}$"
   ]
  },
  {
   "cell_type": "code",
   "execution_count": 6,
   "metadata": {
    "slideshow": {
     "slide_type": "subslide"
    }
   },
   "outputs": [
    {
     "data": {
      "text/html": [
       "<div>\n",
       "<style scoped>\n",
       "    .dataframe tbody tr th:only-of-type {\n",
       "        vertical-align: middle;\n",
       "    }\n",
       "\n",
       "    .dataframe tbody tr th {\n",
       "        vertical-align: top;\n",
       "    }\n",
       "\n",
       "    .dataframe thead th {\n",
       "        text-align: right;\n",
       "    }\n",
       "</style>\n",
       "<table border=\"1\" class=\"dataframe\">\n",
       "  <thead>\n",
       "    <tr style=\"text-align: right;\">\n",
       "      <th></th>\n",
       "      <th>Year</th>\n",
       "      <th>Base_Salary</th>\n",
       "    </tr>\n",
       "  </thead>\n",
       "  <tbody>\n",
       "    <tr>\n",
       "      <th>count</th>\n",
       "      <td>1000.0</td>\n",
       "      <td>1000.000000</td>\n",
       "    </tr>\n",
       "    <tr>\n",
       "      <th>mean</th>\n",
       "      <td>2007.0</td>\n",
       "      <td>48926.072000</td>\n",
       "    </tr>\n",
       "    <tr>\n",
       "      <th>std</th>\n",
       "      <td>0.0</td>\n",
       "      <td>20790.002466</td>\n",
       "    </tr>\n",
       "    <tr>\n",
       "      <th>min</th>\n",
       "      <td>2007.0</td>\n",
       "      <td>23565.600000</td>\n",
       "    </tr>\n",
       "    <tr>\n",
       "      <th>25%</th>\n",
       "      <td>2007.0</td>\n",
       "      <td>36720.000000</td>\n",
       "    </tr>\n",
       "    <tr>\n",
       "      <th>50%</th>\n",
       "      <td>2007.0</td>\n",
       "      <td>36720.000000</td>\n",
       "    </tr>\n",
       "    <tr>\n",
       "      <th>75%</th>\n",
       "      <td>2007.0</td>\n",
       "      <td>56435.400000</td>\n",
       "    </tr>\n",
       "    <tr>\n",
       "      <th>max</th>\n",
       "      <td>2007.0</td>\n",
       "      <td>144200.000000</td>\n",
       "    </tr>\n",
       "  </tbody>\n",
       "</table>\n",
       "</div>"
      ],
      "text/plain": [
       "         Year    Base_Salary\n",
       "count  1000.0    1000.000000\n",
       "mean   2007.0   48926.072000\n",
       "std       0.0   20790.002466\n",
       "min    2007.0   23565.600000\n",
       "25%    2007.0   36720.000000\n",
       "50%    2007.0   36720.000000\n",
       "75%    2007.0   56435.400000\n",
       "max    2007.0  144200.000000"
      ]
     },
     "execution_count": 6,
     "metadata": {},
     "output_type": "execute_result"
    }
   ],
   "source": [
    "df1.describe()"
   ]
  },
  {
   "cell_type": "markdown",
   "metadata": {
    "slideshow": {
     "slide_type": "slide"
    }
   },
   "source": [
    "$\\large \\text{Starting to Gain Some Insight of Ames Housing Dataset Through Statistic}$"
   ]
  },
  {
   "cell_type": "code",
   "execution_count": 3,
   "metadata": {
    "slideshow": {
     "slide_type": "subslide"
    }
   },
   "outputs": [],
   "source": [
    "#read in data\n",
    "df = pd.read_csv('D:\\\\download\\\\Materials\\\\AmesHousing.csv')"
   ]
  },
  {
   "cell_type": "markdown",
   "metadata": {
    "slideshow": {
     "slide_type": "slide"
    }
   },
   "source": [
    "$\\large \\text{Histogram of Sale Price}$"
   ]
  },
  {
   "cell_type": "code",
   "execution_count": 5,
   "metadata": {
    "slideshow": {
     "slide_type": "subslide"
    }
   },
   "outputs": [
    {
     "name": "stdout",
     "output_type": "stream",
     "text": [
      "Skew:  1.7435000757376466\n"
     ]
    },
    {
     "data": {
      "image/png": "[encoded data removed]",
      "text/plain": [
       "<Figure size 432x288 with 1 Axes>"
      ]
     },
     "metadata": {
      "needs_background": "light"
     },
     "output_type": "display_data"
    }
   ],
   "source": [
    "plt.hist(df.SalePrice)\n",
    "print(\"Skew: \",df.SalePrice.skew())"
   ]
  },
  {
   "cell_type": "markdown",
   "metadata": {
    "slideshow": {
     "slide_type": "slide"
    }
   },
   "source": [
    "$\\large \\text{Correlation Table}$"
   ]
  },
  {
   "cell_type": "code",
   "execution_count": 21,
   "metadata": {
    "slideshow": {
     "slide_type": "subslide"
    }
   },
   "outputs": [
    {
     "name": "stdout",
     "output_type": "stream",
     "text": [
      "['Overall_Qual', 'Year_Built', 'Year_Remod_Add', 'Mas_Vnr_Area', 'Total_Bsmt_SF', '1st_Flr_SF', 'Gr_Liv_Area', 'Full_Bath', 'Garage_Yr_Blt', 'Garage_Cars', 'Garage_Area', 'TotRms_AbvGrd']\n"
     ]
    }
   ],
   "source": [
    "#getting the correlations between different features\n",
    "correlation = df.corr(method ='pearson')\n",
    "name = correlation.columns\n",
    "name = name.drop(['SalePrice'])\n",
    "correlation = correlation.drop(columns=name)\n",
    "indexName = []\n",
    "for i in range(0,39):\n",
    "    if(correlation[\"SalePrice\"][i]>0.5):\n",
    "        indexName.append(correlation.index.values[i])\n",
    "indexName.append(\"TotRms_AbvGrd\")\n",
    "indexName.remove(\"SalePrice\")\n",
    "print(indexName)"
   ]
  },
  {
   "cell_type": "code",
   "execution_count": 11,
   "metadata": {
    "slideshow": {
     "slide_type": "subslide"
    }
   },
   "outputs": [
    {
     "data": {
      "text/plain": [
       "SalePrice          1.000000\n",
       "Overall_Qual       0.799262\n",
       "Gr_Liv_Area        0.706780\n",
       "Garage_Cars        0.647877\n",
       "Garage_Area        0.640401\n",
       "Total_Bsmt_SF      0.632280\n",
       "1st_Flr_SF         0.621676\n",
       "Year_Built         0.558426\n",
       "Full_Bath          0.545604\n",
       "Year_Remod_Add     0.532974\n",
       "Garage_Yr_Blt      0.526965\n",
       "Mas_Vnr_Area       0.508285\n",
       "TotRms_AbvGrd      0.495474\n",
       "Fireplaces         0.474558\n",
       "BsmtFin_SF_1       0.432914\n",
       "Lot_Frontage       0.357318\n",
       "Wood_Deck_SF       0.327143\n",
       "Open_Porch_SF      0.312951\n",
       "Half_Bath          0.285056\n",
       "Bsmt_Full_Bath     0.276050\n",
       "2nd_Flr_SF         0.269373\n",
       "Lot_Area           0.266549\n",
       "Bsmt_Unf_SF        0.182855\n",
       "Bedroom_AbvGr      0.143913\n",
       "Screen_Porch       0.112151\n",
       "Pool_Area          0.068403\n",
       "Mo_Sold            0.035259\n",
       "3Ssn_Porch         0.032225\n",
       "BsmtFin_SF_2       0.005891\n",
       "Misc_Val          -0.015691\n",
       "Yr_Sold           -0.030569\n",
       "Order             -0.031408\n",
       "Bsmt_Half_Bath    -0.035835\n",
       "Low_Qual_Fin_SF   -0.037660\n",
       "MS_SubClass       -0.085092\n",
       "Overall_Cond      -0.101697\n",
       "Kitchen_AbvGr     -0.119814\n",
       "Enclosed_Porch    -0.128787\n",
       "PID               -0.246521\n",
       "Name: SalePrice, dtype: float64"
      ]
     },
     "execution_count": 11,
     "metadata": {},
     "output_type": "execute_result"
    }
   ],
   "source": [
    "correlation[\"SalePrice\"].sort_values(ascending=False)"
   ]
  },
  {
   "cell_type": "markdown",
   "metadata": {
    "slideshow": {
     "slide_type": "slide"
    }
   },
   "source": [
    "$\\large \\text{Overall Quality Graph}$"
   ]
  },
  {
   "cell_type": "code",
   "execution_count": 9,
   "metadata": {
    "slideshow": {
     "slide_type": "subslide"
    }
   },
   "outputs": [
    {
     "data": {
      "text/html": [
       "<div>\n",
       "<style scoped>\n",
       "    .dataframe tbody tr th:only-of-type {\n",
       "        vertical-align: middle;\n",
       "    }\n",
       "\n",
       "    .dataframe tbody tr th {\n",
       "        vertical-align: top;\n",
       "    }\n",
       "\n",
       "    .dataframe thead th {\n",
       "        text-align: right;\n",
       "    }\n",
       "</style>\n",
       "<table border=\"1\" class=\"dataframe\">\n",
       "  <thead>\n",
       "    <tr style=\"text-align: right;\">\n",
       "      <th></th>\n",
       "      <th>SalePrice</th>\n",
       "    </tr>\n",
       "    <tr>\n",
       "      <th>Overall_Qual</th>\n",
       "      <th></th>\n",
       "    </tr>\n",
       "  </thead>\n",
       "  <tbody>\n",
       "    <tr>\n",
       "      <th>1</th>\n",
       "      <td>50150.0</td>\n",
       "    </tr>\n",
       "    <tr>\n",
       "      <th>2</th>\n",
       "      <td>57625.0</td>\n",
       "    </tr>\n",
       "    <tr>\n",
       "      <th>3</th>\n",
       "      <td>81200.0</td>\n",
       "    </tr>\n",
       "    <tr>\n",
       "      <th>4</th>\n",
       "      <td>105000.0</td>\n",
       "    </tr>\n",
       "    <tr>\n",
       "      <th>5</th>\n",
       "      <td>133000.0</td>\n",
       "    </tr>\n",
       "    <tr>\n",
       "      <th>6</th>\n",
       "      <td>159500.0</td>\n",
       "    </tr>\n",
       "    <tr>\n",
       "      <th>7</th>\n",
       "      <td>200000.0</td>\n",
       "    </tr>\n",
       "    <tr>\n",
       "      <th>8</th>\n",
       "      <td>264530.5</td>\n",
       "    </tr>\n",
       "    <tr>\n",
       "      <th>9</th>\n",
       "      <td>360000.0</td>\n",
       "    </tr>\n",
       "    <tr>\n",
       "      <th>10</th>\n",
       "      <td>451950.0</td>\n",
       "    </tr>\n",
       "  </tbody>\n",
       "</table>\n",
       "</div>"
      ],
      "text/plain": [
       "              SalePrice\n",
       "Overall_Qual           \n",
       "1               50150.0\n",
       "2               57625.0\n",
       "3               81200.0\n",
       "4              105000.0\n",
       "5              133000.0\n",
       "6              159500.0\n",
       "7              200000.0\n",
       "8              264530.5\n",
       "9              360000.0\n",
       "10             451950.0"
      ]
     },
     "execution_count": 9,
     "metadata": {},
     "output_type": "execute_result"
    }
   ],
   "source": [
    "quality_pivot = df.pivot_table(index='Overall_Qual',\n",
    "                  values='SalePrice', aggfunc=np.median)\n",
    "quality_pivot"
   ]
  },
  {
   "cell_type": "code",
   "execution_count": 16,
   "metadata": {
    "slideshow": {
     "slide_type": "subslide"
    }
   },
   "outputs": [
    {
     "data": {
      "image/png": "[encoded data removed]",
      "text/plain": [
       "<Figure size 432x288 with 1 Axes>"
      ]
     },
     "metadata": {
      "needs_background": "light"
     },
     "output_type": "display_data"
    }
   ],
   "source": [
    "quality_pivot.plot(kind='bar', color='blue')\n",
    "plt.xlabel('Overall Quality')\n",
    "plt.ylabel('Median Sale Price')\n",
    "plt.xticks(rotation=0)\n",
    "plt.show()"
   ]
  },
  {
   "cell_type": "markdown",
   "metadata": {
    "slideshow": {
     "slide_type": "slide"
    }
   },
   "source": [
    "$\\large \\text{Above Ground Living Area Graph}$"
   ]
  },
  {
   "cell_type": "code",
   "execution_count": 9,
   "metadata": {
    "slideshow": {
     "slide_type": "subslide"
    }
   },
   "outputs": [
    {
     "data": {
      "text/plain": [
       "Text(0, 0.5, 'Sale price')"
      ]
     },
     "execution_count": 9,
     "metadata": {},
     "output_type": "execute_result"
    },
    {
     "data": {
      "image/png": "[encoded data removed]",
      "text/plain": [
       "<Figure size 432x288 with 1 Axes>"
      ]
     },
     "metadata": {
      "needs_background": "light"
     },
     "output_type": "display_data"
    }
   ],
   "source": [
    "plt.scatter(df.Gr_Liv_Area,df.SalePrice)\n",
    "plt.xlabel(\"Above ground living area\")\n",
    "plt.ylabel(\"Sale price\")"
   ]
  },
  {
   "cell_type": "markdown",
   "metadata": {
    "slideshow": {
     "slide_type": "slide"
    }
   },
   "source": [
    "$\\large \\text{Garage Cars Graph}$"
   ]
  },
  {
   "cell_type": "code",
   "execution_count": 4,
   "metadata": {
    "slideshow": {
     "slide_type": "subslide"
    }
   },
   "outputs": [
    {
     "data": {
      "image/png": "[encoded data removed]",
      "text/plain": [
       "<Figure size 432x288 with 1 Axes>"
      ]
     },
     "metadata": {
      "needs_background": "light"
     },
     "output_type": "display_data"
    }
   ],
   "source": [
    "quality_pivot = df.pivot_table(index='Garage_Cars',\n",
    "                  values='SalePrice', aggfunc=np.median)\n",
    "quality_pivot.plot(kind='bar', color='blue')\n",
    "plt.xlabel('Garage Cars')\n",
    "plt.ylabel('Median Sale Price')\n",
    "plt.xticks(rotation=0)\n",
    "plt.show()"
   ]
  },
  {
   "cell_type": "markdown",
   "metadata": {
    "slideshow": {
     "slide_type": "slide"
    }
   },
   "source": [
    "$\\large \\text{Garage Area Graph}$"
   ]
  },
  {
   "cell_type": "code",
   "execution_count": 14,
   "metadata": {
    "slideshow": {
     "slide_type": "subslide"
    }
   },
   "outputs": [
    {
     "data": {
      "image/png": "[encoded data removed]",
      "text/plain": [
       "<Figure size 432x288 with 1 Axes>"
      ]
     },
     "metadata": {
      "needs_background": "light"
     },
     "output_type": "display_data"
    }
   ],
   "source": [
    "plt.scatter(x=df['Garage_Area'], y=df['SalePrice'])\n",
    "plt.ylabel('Sale Price')\n",
    "plt.xlabel('Garage Area')\n",
    "plt.show()"
   ]
  },
  {
   "cell_type": "code",
   "execution_count": 27,
   "metadata": {
    "slideshow": {
     "slide_type": "skip"
    }
   },
   "outputs": [
    {
     "data": {
      "text/plain": [
       "Index(['Order', 'PID', 'MS_SubClass', 'MS_Zoning', 'Lot_Area', 'Street',\n",
       "       'Lot_Shape', 'Land_Contour', 'Utilities', 'Lot_Config', 'Land_Slope',\n",
       "       'Neighborhood', 'Condition_1', 'Condition_2', 'Bldg_Type',\n",
       "       'House_Style', 'Overall_Qual', 'Overall_Cond', 'Year_Built',\n",
       "       'Year_Remod_Add', 'Roof_Style', 'Roof_Matl', 'Exterior_1st',\n",
       "       'Exterior_2nd', 'Exter_Qual', 'Exter_Cond', 'Foundation', 'Heating',\n",
       "       'Heating_QC', 'Central_Air', '1st_Flr_SF', '2nd_Flr_SF',\n",
       "       'Low_Qual_Fin_SF', 'Gr_Liv_Area', 'Full_Bath', 'Half_Bath',\n",
       "       'Bedroom_AbvGr', 'Kitchen_AbvGr', 'Kitchen_Qual', 'TotRms_AbvGrd',\n",
       "       'Functional', 'Fireplaces', 'Paved_Drive', 'Wood_Deck_SF',\n",
       "       'Open_Porch_SF', 'Enclosed_Porch', '3Ssn_Porch', 'Screen_Porch',\n",
       "       'Pool_Area', 'Misc_Val', 'Mo_Sold', 'Yr_Sold', 'Sale_Type',\n",
       "       'Sale_Condition', 'SalePrice', 'num_street', 'num_sale_cond'],\n",
       "      dtype='object')"
      ]
     },
     "execution_count": 27,
     "metadata": {},
     "output_type": "execute_result"
    }
   ],
   "source": [
    "df.columns"
   ]
  },
  {
   "cell_type": "code",
   "execution_count": 67,
   "metadata": {
    "slideshow": {
     "slide_type": "skip"
    }
   },
   "outputs": [
    {
     "data": {
      "text/plain": [
       "MS_Zoning         object\n",
       "Street            object\n",
       "Alley             object\n",
       "Lot_Shape         object\n",
       "Land_Contour      object\n",
       "Utilities         object\n",
       "Lot_Config        object\n",
       "Land_Slope        object\n",
       "Neighborhood      object\n",
       "Condition_1       object\n",
       "Condition_2       object\n",
       "Bldg_Type         object\n",
       "House_Style       object\n",
       "Roof_Style        object\n",
       "Roof_Matl         object\n",
       "Exterior_1st      object\n",
       "Exterior_2nd      object\n",
       "Mas_Vnr_Type      object\n",
       "Exter_Qual        object\n",
       "Exter_Cond        object\n",
       "Foundation        object\n",
       "Bsmt _Qual        object\n",
       "Bsmt _Cond        object\n",
       "Bsmt_Exposure     object\n",
       "BsmtFin_Type_1    object\n",
       "BsmtFin_Type_2    object\n",
       "Heating           object\n",
       "Heating_QC        object\n",
       "Central_Air       object\n",
       "Electrical        object\n",
       "Kitchen_Qual      object\n",
       "Functional        object\n",
       "Fireplace_Qu      object\n",
       "Garage_Type       object\n",
       "Garage_Finish     object\n",
       "Garage_Qual       object\n",
       "Garage_Cond       object\n",
       "Paved_Drive       object\n",
       "Pool_QC           object\n",
       "Fence             object\n",
       "Misc_Feature      object\n",
       "Sale_Type         object\n",
       "Sale_Condition    object\n",
       "dtype: object"
      ]
     },
     "execution_count": 67,
     "metadata": {},
     "output_type": "execute_result"
    }
   ],
   "source": [
    "df.select_dtypes(exclude=[np.number]).dtypes"
   ]
  },
  {
   "cell_type": "markdown",
   "metadata": {
    "slideshow": {
     "slide_type": "slide"
    }
   },
   "source": [
    "$\\large \\text{Statistic of Nonnumeric Features}$"
   ]
  },
  {
   "cell_type": "code",
   "execution_count": 40,
   "metadata": {
    "slideshow": {
     "slide_type": "slide"
    }
   },
   "outputs": [
    {
     "name": "stdout",
     "output_type": "stream",
     "text": [
      "Pave    2918\n",
      "Grvl      12\n",
      "Name: Street, dtype: int64 \n",
      "\n"
     ]
    }
   ],
   "source": [
    "print (df.Street.value_counts(), \"\\n\")"
   ]
  },
  {
   "cell_type": "code",
   "execution_count": 6,
   "metadata": {
    "slideshow": {
     "slide_type": "subslide"
    }
   },
   "outputs": [],
   "source": [
    "saleP = []\n",
    "saleG = []\n",
    "for e in range(0,2930):\n",
    "    if(df[\"Street\"][e]==\"Pave\"):\n",
    "        saleP.append(df[\"SalePrice\"][e])\n",
    "    else:\n",
    "        saleG.append(df[\"SalePrice\"][e])"
   ]
  },
  {
   "cell_type": "code",
   "execution_count": 7,
   "metadata": {
    "slideshow": {
     "slide_type": "subslide"
    }
   },
   "outputs": [
    {
     "name": "stdout",
     "output_type": "stream",
     "text": [
      "Min Pave Street Price 12789\n",
      "Max Pave Street Price 755000\n"
     ]
    },
    {
     "data": {
      "image/png": "[encoded data removed]",
      "text/plain": [
       "<Figure size 432x288 with 1 Axes>"
      ]
     },
     "metadata": {
      "needs_background": "light"
     },
     "output_type": "display_data"
    }
   ],
   "source": [
    "plt.boxplot(saleP)\n",
    "plt.title(\"Pave street price\")\n",
    "print(\"Min Pave Street Price\", min(saleP))\n",
    "print(\"Max Pave Street Price\", max(saleP))"
   ]
  },
  {
   "cell_type": "code",
   "execution_count": 8,
   "metadata": {
    "slideshow": {
     "slide_type": "subslide"
    }
   },
   "outputs": [
    {
     "name": "stdout",
     "output_type": "stream",
     "text": [
      "Min Gravel Street Price 50138\n",
      "Max Gravel Street Price 228950\n"
     ]
    },
    {
     "data": {
      "image/png": "[encoded data removed]",
      "text/plain": [
       "<Figure size 432x288 with 1 Axes>"
      ]
     },
     "metadata": {
      "needs_background": "light"
     },
     "output_type": "display_data"
    }
   ],
   "source": [
    "plt.boxplot(saleG)\n",
    "plt.title(\"Gravel street price\")\n",
    "print(\"Min Gravel Street Price\", min(saleG))\n",
    "print(\"Max Gravel Street Price\", max(saleG))"
   ]
  },
  {
   "cell_type": "code",
   "execution_count": 5,
   "metadata": {
    "slideshow": {
     "slide_type": "slide"
    }
   },
   "outputs": [],
   "source": [
    "df['num_street'] = pd.get_dummies(df.Street, drop_first=True)"
   ]
  },
  {
   "cell_type": "code",
   "execution_count": 30,
   "metadata": {
    "slideshow": {
     "slide_type": "subslide"
    }
   },
   "outputs": [
    {
     "name": "stdout",
     "output_type": "stream",
     "text": [
      "1    2918\n",
      "0      12\n",
      "Name: num_street, dtype: int64 \n",
      "\n"
     ]
    }
   ],
   "source": [
    "#verify the integrity of street counts\n",
    "print (df.num_street.value_counts(), \"\\n\")"
   ]
  },
  {
   "cell_type": "code",
   "execution_count": 64,
   "metadata": {
    "slideshow": {
     "slide_type": "slide"
    }
   },
   "outputs": [
    {
     "data": {
      "image/png": "[encoded data removed]",
      "text/plain": [
       "<Figure size 432x288 with 1 Axes>"
      ]
     },
     "metadata": {
      "needs_background": "light"
     },
     "output_type": "display_data"
    }
   ],
   "source": [
    "condition_pivot = df.pivot_table(index='Sale_Condition', values='SalePrice', aggfunc=np.median)\n",
    "condition_pivot.plot(kind='bar', color='blue')\n",
    "plt.xlabel('Sale Condition')\n",
    "plt.ylabel('Median Sale Price')\n",
    "plt.xticks(rotation=0)\n",
    "plt.show()"
   ]
  },
  {
   "cell_type": "code",
   "execution_count": 5,
   "metadata": {
    "slideshow": {
     "slide_type": "subslide"
    }
   },
   "outputs": [
    {
     "name": "stderr",
     "output_type": "stream",
     "text": [
      "<ipython-input-5-583a70ed48b8>:6: SettingWithCopyWarning: \n",
      "A value is trying to be set on a copy of a slice from a DataFrame\n",
      "\n",
      "See the caveats in the documentation: https://pandas.pydata.org/pandas-docs/stable/user_guide/indexing.html#returning-a-view-versus-a-copy\n",
      "  df[\"num_sale_cond\"][i] = 1\n",
      "<ipython-input-5-583a70ed48b8>:4: SettingWithCopyWarning: \n",
      "A value is trying to be set on a copy of a slice from a DataFrame\n",
      "\n",
      "See the caveats in the documentation: https://pandas.pydata.org/pandas-docs/stable/user_guide/indexing.html#returning-a-view-versus-a-copy\n",
      "  df[\"num_sale_cond\"][i] = 0\n"
     ]
    }
   ],
   "source": [
    "df[\"num_sale_cond\"] = df[\"Sale_Condition\"]\n",
    "for i in range(0,2930):\n",
    "    if(\"Partial\" in df[\"Sale_Condition\"][i]):\n",
    "        df[\"num_sale_cond\"][i] = 0\n",
    "    else:\n",
    "        df[\"num_sale_cond\"][i] = 1"
   ]
  },
  {
   "cell_type": "code",
   "execution_count": 71,
   "metadata": {
    "slideshow": {
     "slide_type": "subslide"
    }
   },
   "outputs": [
    {
     "name": "stdout",
     "output_type": "stream",
     "text": [
      "1    2685\n",
      "0     245\n",
      "Name: num_sale_cond, dtype: int64 \n",
      "\n"
     ]
    }
   ],
   "source": [
    "#verify the integrity of sale conditions\n",
    "print (df.num_sale_cond.value_counts(), \"\\n\")"
   ]
  },
  {
   "cell_type": "code",
   "execution_count": 72,
   "metadata": {
    "slideshow": {
     "slide_type": "subslide"
    }
   },
   "outputs": [
    {
     "name": "stdout",
     "output_type": "stream",
     "text": [
      "Normal     2413\n",
      "Partial     245\n",
      "Abnorml     190\n",
      "Family       46\n",
      "Alloca       24\n",
      "AdjLand      12\n",
      "Name: Sale_Condition, dtype: int64 \n",
      "\n"
     ]
    }
   ],
   "source": [
    "print (df.Sale_Condition.value_counts(), \"\\n\")"
   ]
  },
  {
   "cell_type": "markdown",
   "metadata": {
    "slideshow": {
     "slide_type": "slide"
    }
   },
   "source": [
    "$\\large \\text{First Attempt}$"
   ]
  },
  {
   "cell_type": "code",
   "execution_count": 73,
   "metadata": {
    "slideshow": {
     "slide_type": "slide"
    }
   },
   "outputs": [],
   "source": [
    "indexName.append(\"num_sale_cond\")\n",
    "indexName.append(\"num_street\")"
   ]
  },
  {
   "cell_type": "code",
   "execution_count": 74,
   "metadata": {
    "slideshow": {
     "slide_type": "subslide"
    }
   },
   "outputs": [
    {
     "data": {
      "text/plain": [
       "['Overall_Qual',\n",
       " 'Year_Built',\n",
       " 'Year_Remod_Add',\n",
       " 'Mas_Vnr_Area',\n",
       " 'Total_Bsmt_SF',\n",
       " '1st_Flr_SF',\n",
       " 'Gr_Liv_Area',\n",
       " 'Full_Bath',\n",
       " 'Garage_Yr_Blt',\n",
       " 'Garage_Cars',\n",
       " 'Garage_Area',\n",
       " 'TotRms_AbvGrd',\n",
       " 'num_sale_cond',\n",
       " 'num_street']"
      ]
     },
     "execution_count": 74,
     "metadata": {},
     "output_type": "execute_result"
    }
   ],
   "source": [
    "#A reminder that indexName represent features with more than 0.5 correlation with sale price\n",
    "indexName"
   ]
  },
  {
   "cell_type": "code",
   "execution_count": 80,
   "metadata": {
    "slideshow": {
     "slide_type": "slide"
    }
   },
   "outputs": [
    {
     "data": {
      "text/plain": [
       "Overall_Qual        0\n",
       "Year_Built          0\n",
       "Year_Remod_Add      0\n",
       "Mas_Vnr_Area       23\n",
       "Total_Bsmt_SF       1\n",
       "1st_Flr_SF          0\n",
       "Gr_Liv_Area         0\n",
       "Full_Bath           0\n",
       "Garage_Yr_Blt     159\n",
       "Garage_Cars         1\n",
       "Garage_Area         1\n",
       "TotRms_AbvGrd       0\n",
       "num_sale_cond       0\n",
       "num_street          0\n",
       "dtype: int64"
      ]
     },
     "execution_count": 80,
     "metadata": {},
     "output_type": "execute_result"
    }
   ],
   "source": [
    "#Find out which entry has null value\n",
    "df[indexName].isnull().sum()"
   ]
  },
  {
   "cell_type": "code",
   "execution_count": 82,
   "metadata": {
    "slideshow": {
     "slide_type": "slide"
    }
   },
   "outputs": [
    {
     "data": {
      "text/plain": [
       "<bound method Series.mean of 0       1080.0\n",
       "1        882.0\n",
       "2       1329.0\n",
       "3       2110.0\n",
       "4        928.0\n",
       "         ...  \n",
       "2925    1003.0\n",
       "2926     864.0\n",
       "2927     912.0\n",
       "2928    1389.0\n",
       "2929     996.0\n",
       "Name: Total_Bsmt_SF, Length: 2930, dtype: float64>"
      ]
     },
     "execution_count": 82,
     "metadata": {},
     "output_type": "execute_result"
    }
   ],
   "source": [
    "df.Total_Bsmt_SF.mean"
   ]
  },
  {
   "cell_type": "code",
   "execution_count": 83,
   "metadata": {
    "slideshow": {
     "slide_type": "slide"
    }
   },
   "outputs": [
    {
     "data": {
      "text/plain": [
       "<bound method Series.median of 0       1080.0\n",
       "1        882.0\n",
       "2       1329.0\n",
       "3       2110.0\n",
       "4        928.0\n",
       "         ...  \n",
       "2925    1003.0\n",
       "2926     864.0\n",
       "2927     912.0\n",
       "2928    1389.0\n",
       "2929     996.0\n",
       "Name: Total_Bsmt_SF, Length: 2930, dtype: float64>"
      ]
     },
     "execution_count": 83,
     "metadata": {},
     "output_type": "execute_result"
    }
   ],
   "source": [
    "df.Total_Bsmt_SF.median"
   ]
  },
  {
   "cell_type": "code",
   "execution_count": 32,
   "metadata": {
    "slideshow": {
     "slide_type": "slide"
    }
   },
   "outputs": [
    {
     "name": "stderr",
     "output_type": "stream",
     "text": [
      "<ipython-input-32-f2a0250628bd>:4: SettingWithCopyWarning: \n",
      "A value is trying to be set on a copy of a slice from a DataFrame\n",
      "\n",
      "See the caveats in the documentation: https://pandas.pydata.org/pandas-docs/stable/user_guide/indexing.html#returning-a-view-versus-a-copy\n",
      "  df[\"Total_Bsmt_SF\"][i]=1080.0\n"
     ]
    }
   ],
   "source": [
    "null_table = df[\"Total_Bsmt_SF\"].isnull()\n",
    "for i in range(2930):\n",
    "    if(null_table[i]==True):\n",
    "        df[\"Total_Bsmt_SF\"][i]=1080.0"
   ]
  },
  {
   "cell_type": "code",
   "execution_count": 96,
   "metadata": {
    "slideshow": {
     "slide_type": "slide"
    }
   },
   "outputs": [
    {
     "data": {
      "text/plain": [
       "<bound method Series.mean of 0       2.0\n",
       "1       1.0\n",
       "2       1.0\n",
       "3       2.0\n",
       "4       2.0\n",
       "       ... \n",
       "2925    2.0\n",
       "2926    2.0\n",
       "2927    0.0\n",
       "2928    2.0\n",
       "2929    3.0\n",
       "Name: Garage_Cars, Length: 2930, dtype: float64>"
      ]
     },
     "execution_count": 96,
     "metadata": {},
     "output_type": "execute_result"
    }
   ],
   "source": [
    "df.Garage_Cars.mean"
   ]
  },
  {
   "cell_type": "code",
   "execution_count": 33,
   "metadata": {
    "slideshow": {
     "slide_type": "slide"
    }
   },
   "outputs": [
    {
     "name": "stderr",
     "output_type": "stream",
     "text": [
      "<ipython-input-33-086208506ab5>:4: SettingWithCopyWarning: \n",
      "A value is trying to be set on a copy of a slice from a DataFrame\n",
      "\n",
      "See the caveats in the documentation: https://pandas.pydata.org/pandas-docs/stable/user_guide/indexing.html#returning-a-view-versus-a-copy\n",
      "  df[\"Garage_Cars\"][i]=2\n"
     ]
    }
   ],
   "source": [
    "null_table = df[\"Garage_Cars\"].isnull()\n",
    "for i in range(2930):\n",
    "    if(null_table[i]==True):\n",
    "        df[\"Garage_Cars\"][i]=2"
   ]
  },
  {
   "cell_type": "code",
   "execution_count": 98,
   "metadata": {
    "slideshow": {
     "slide_type": "slide"
    }
   },
   "outputs": [
    {
     "data": {
      "text/plain": [
       "<bound method Series.mean of 0       528.0\n",
       "1       730.0\n",
       "2       312.0\n",
       "3       522.0\n",
       "4       482.0\n",
       "        ...  \n",
       "2925    588.0\n",
       "2926    484.0\n",
       "2927      0.0\n",
       "2928    418.0\n",
       "2929    650.0\n",
       "Name: Garage_Area, Length: 2930, dtype: float64>"
      ]
     },
     "execution_count": 98,
     "metadata": {},
     "output_type": "execute_result"
    }
   ],
   "source": [
    "df.Garage_Area.mean"
   ]
  },
  {
   "cell_type": "code",
   "execution_count": 34,
   "metadata": {
    "slideshow": {
     "slide_type": "slide"
    }
   },
   "outputs": [
    {
     "name": "stderr",
     "output_type": "stream",
     "text": [
      "<ipython-input-34-cff5c7086ca4>:4: SettingWithCopyWarning: \n",
      "A value is trying to be set on a copy of a slice from a DataFrame\n",
      "\n",
      "See the caveats in the documentation: https://pandas.pydata.org/pandas-docs/stable/user_guide/indexing.html#returning-a-view-versus-a-copy\n",
      "  df[\"Garage_Area\"][i]=528.0\n"
     ]
    }
   ],
   "source": [
    "null_table = df['Garage_Area'].isnull()\n",
    "for i in range(2930):\n",
    "    if(null_table[i]==True):\n",
    "        df[\"Garage_Area\"][i]=528.0"
   ]
  },
  {
   "cell_type": "code",
   "execution_count": 103,
   "metadata": {
    "slideshow": {
     "slide_type": "slide"
    }
   },
   "outputs": [],
   "source": [
    "#remove columns with null entry\n",
    "indexName.remove(\"Mas_Vnr_Area\")\n",
    "indexName.remove(\"Garage_Yr_Blt\")"
   ]
  },
  {
   "cell_type": "code",
   "execution_count": 104,
   "metadata": {
    "slideshow": {
     "slide_type": "slide"
    }
   },
   "outputs": [
    {
     "data": {
      "text/plain": [
       "['Overall_Qual',\n",
       " 'Year_Built',\n",
       " 'Year_Remod_Add',\n",
       " 'Total_Bsmt_SF',\n",
       " '1st_Flr_SF',\n",
       " 'Gr_Liv_Area',\n",
       " 'Full_Bath',\n",
       " 'Garage_Cars',\n",
       " 'Garage_Area',\n",
       " 'TotRms_AbvGrd',\n",
       " 'num_sale_cond',\n",
       " 'num_street']"
      ]
     },
     "execution_count": 104,
     "metadata": {},
     "output_type": "execute_result"
    }
   ],
   "source": [
    "indexName"
   ]
  },
  {
   "cell_type": "code",
   "execution_count": 105,
   "metadata": {
    "slideshow": {
     "slide_type": "slide"
    }
   },
   "outputs": [
    {
     "data": {
      "text/plain": [
       "True"
      ]
     },
     "execution_count": 105,
     "metadata": {},
     "output_type": "execute_result"
    }
   ],
   "source": [
    "#verify if there're still any null values\n",
    "df[indexName].isnull().sum().sum()==0"
   ]
  },
  {
   "cell_type": "code",
   "execution_count": 106,
   "metadata": {
    "slideshow": {
     "slide_type": "slide"
    }
   },
   "outputs": [],
   "source": [
    "X = df[indexName]\n",
    "y = df[\"SalePrice\"]"
   ]
  },
  {
   "cell_type": "code",
   "execution_count": 107,
   "metadata": {
    "slideshow": {
     "slide_type": "subslide"
    }
   },
   "outputs": [],
   "source": [
    "X_train, X_test, y_train, y_test = train_test_split(\n",
    "                          X, y, random_state=0, test_size=.33)"
   ]
  },
  {
   "cell_type": "code",
   "execution_count": 108,
   "metadata": {
    "slideshow": {
     "slide_type": "subslide"
    }
   },
   "outputs": [],
   "source": [
    "lr = linear_model.LinearRegression()"
   ]
  },
  {
   "cell_type": "code",
   "execution_count": 109,
   "metadata": {
    "slideshow": {
     "slide_type": "subslide"
    }
   },
   "outputs": [],
   "source": [
    "model = lr.fit(X_train, y_train)"
   ]
  },
  {
   "cell_type": "markdown",
   "metadata": {
    "slideshow": {
     "slide_type": "slide"
    }
   },
   "source": [
    "$\\text{Finding out error of the model}$"
   ]
  },
  {
   "cell_type": "code",
   "execution_count": 110,
   "metadata": {
    "slideshow": {
     "slide_type": "slide"
    }
   },
   "outputs": [
    {
     "name": "stdout",
     "output_type": "stream",
     "text": [
      "R^2 is: \n",
      " 0.772196845087427\n"
     ]
    }
   ],
   "source": [
    "print (\"R^2 is: \\n\", model.score(X_test, y_test))"
   ]
  },
  {
   "cell_type": "code",
   "execution_count": 118,
   "metadata": {
    "slideshow": {
     "slide_type": "subslide"
    }
   },
   "outputs": [
    {
     "name": "stdout",
     "output_type": "stream",
     "text": [
      "RMSE is: \n",
      " 1552839760.804605\n",
      "MAE is :\n",
      " 24609.97246408946\n"
     ]
    }
   ],
   "source": [
    "predictions = model.predict(X_test)\n",
    "print ('RMSE is: \\n', mean_squared_error(y_test, predictions))\n",
    "print(\"MAE is :\\n\",mean_absolute_error(y_test, predictions))"
   ]
  },
  {
   "cell_type": "code",
   "execution_count": 115,
   "metadata": {
    "slideshow": {
     "slide_type": "subslide"
    }
   },
   "outputs": [
    {
     "data": {
      "image/png": "[encoded data removed]",
      "text/plain": [
       "<Figure size 432x288 with 1 Axes>"
      ]
     },
     "metadata": {
      "needs_background": "light"
     },
     "output_type": "display_data"
    }
   ],
   "source": [
    "actual_values = y_test\n",
    "plt.scatter(predictions, actual_values, alpha=.7,\n",
    "            color='b') \n",
    "plt.xlabel('Predicted Price')\n",
    "plt.ylabel('Actual Price')\n",
    "plt.title('Linear Regression Model')\n",
    "plt.show()"
   ]
  },
  {
   "cell_type": "markdown",
   "metadata": {
    "slideshow": {
     "slide_type": "slide"
    }
   },
   "source": [
    "$\\large \\text{First attempt: Part II}$"
   ]
  },
  {
   "cell_type": "code",
   "execution_count": 6,
   "metadata": {
    "slideshow": {
     "slide_type": "slide"
    }
   },
   "outputs": [
    {
     "name": "stderr",
     "output_type": "stream",
     "text": [
      "<ipython-input-6-5bdb89a71260>:3: SettingWithCopyWarning: \n",
      "A value is trying to be set on a copy of a slice from a DataFrame.\n",
      "Try using .loc[row_indexer,col_indexer] = value instead\n",
      "\n",
      "See the caveats in the documentation: https://pandas.pydata.org/pandas-docs/stable/user_guide/indexing.html#returning-a-view-versus-a-copy\n",
      "  new_df[\"num_sale\"] = df[\"num_sale_cond\"]\n"
     ]
    },
    {
     "data": {
      "text/plain": [
       "Index(['Order', 'PID', 'MS_SubClass', 'Lot_Frontage', 'Lot_Area',\n",
       "       'Overall_Qual', 'Overall_Cond', 'Year_Built', 'Year_Remod_Add',\n",
       "       'Mas_Vnr_Area', 'BsmtFin_SF_1', 'BsmtFin_SF_2', 'Bsmt_Unf_SF',\n",
       "       'Total_Bsmt_SF', '1st_Flr_SF', '2nd_Flr_SF', 'Low_Qual_Fin_SF',\n",
       "       'Gr_Liv_Area', 'Bsmt_Full_Bath', 'Bsmt_Half_Bath', 'Full_Bath',\n",
       "       'Half_Bath', 'Bedroom_AbvGr', 'Kitchen_AbvGr', 'TotRms_AbvGrd',\n",
       "       'Fireplaces', 'Garage_Yr_Blt', 'Garage_Cars', 'Garage_Area',\n",
       "       'Wood_Deck_SF', 'Open_Porch_SF', 'Enclosed_Porch', '3Ssn_Porch',\n",
       "       'Screen_Porch', 'Pool_Area', 'Misc_Val', 'Mo_Sold', 'Yr_Sold',\n",
       "       'SalePrice', 'num_sale'],\n",
       "      dtype='object')"
      ]
     },
     "execution_count": 6,
     "metadata": {},
     "output_type": "execute_result"
    }
   ],
   "source": [
    "#create a new data frame with all te numberic features in df\n",
    "new_df = df.select_dtypes(include=[np.number])\n",
    "new_df[\"num_sale\"] = df[\"num_sale_cond\"]\n",
    "new_df.columns"
   ]
  },
  {
   "cell_type": "code",
   "execution_count": 7,
   "metadata": {
    "slideshow": {
     "slide_type": "slide"
    }
   },
   "outputs": [
    {
     "data": {
      "text/plain": [
       "Order                0\n",
       "PID                  0\n",
       "MS_SubClass          0\n",
       "Lot_Frontage       490\n",
       "Lot_Area             0\n",
       "Overall_Qual         0\n",
       "Overall_Cond         0\n",
       "Year_Built           0\n",
       "Year_Remod_Add       0\n",
       "Mas_Vnr_Area        23\n",
       "BsmtFin_SF_1         1\n",
       "BsmtFin_SF_2         1\n",
       "Bsmt_Unf_SF          1\n",
       "Total_Bsmt_SF        1\n",
       "1st_Flr_SF           0\n",
       "2nd_Flr_SF           0\n",
       "Low_Qual_Fin_SF      0\n",
       "Gr_Liv_Area          0\n",
       "Bsmt_Full_Bath       2\n",
       "Bsmt_Half_Bath       2\n",
       "Full_Bath            0\n",
       "Half_Bath            0\n",
       "Bedroom_AbvGr        0\n",
       "Kitchen_AbvGr        0\n",
       "TotRms_AbvGrd        0\n",
       "Fireplaces           0\n",
       "Garage_Yr_Blt      159\n",
       "Garage_Cars          1\n",
       "Garage_Area          1\n",
       "Wood_Deck_SF         0\n",
       "Open_Porch_SF        0\n",
       "Enclosed_Porch       0\n",
       "3Ssn_Porch           0\n",
       "Screen_Porch         0\n",
       "Pool_Area            0\n",
       "Misc_Val             0\n",
       "Mo_Sold              0\n",
       "Yr_Sold              0\n",
       "SalePrice            0\n",
       "num_sale             0\n",
       "dtype: int64"
      ]
     },
     "execution_count": 7,
     "metadata": {},
     "output_type": "execute_result"
    }
   ],
   "source": [
    "#checking null values\n",
    "new_df.isnull().sum()"
   ]
  },
  {
   "cell_type": "code",
   "execution_count": 11,
   "metadata": {
    "slideshow": {
     "slide_type": "subslide"
    }
   },
   "outputs": [
    {
     "data": {
      "text/plain": [
       "SalePrice          1.000000\n",
       "Overall_Qual       0.799262\n",
       "Gr_Liv_Area        0.706780\n",
       "Garage_Cars        0.647877\n",
       "Garage_Area        0.640401\n",
       "Total_Bsmt_SF      0.632280\n",
       "1st_Flr_SF         0.621676\n",
       "Year_Built         0.558426\n",
       "Full_Bath          0.545604\n",
       "Year_Remod_Add     0.532974\n",
       "Garage_Yr_Blt      0.526965\n",
       "Mas_Vnr_Area       0.508285\n",
       "TotRms_AbvGrd      0.495474\n",
       "Fireplaces         0.474558\n",
       "BsmtFin_SF_1       0.432914\n",
       "Lot_Frontage       0.357318\n",
       "Wood_Deck_SF       0.327143\n",
       "Open_Porch_SF      0.312951\n",
       "Half_Bath          0.285056\n",
       "Bsmt_Full_Bath     0.276050\n",
       "2nd_Flr_SF         0.269373\n",
       "Lot_Area           0.266549\n",
       "Bsmt_Unf_SF        0.182855\n",
       "Bedroom_AbvGr      0.143913\n",
       "Screen_Porch       0.112151\n",
       "Pool_Area          0.068403\n",
       "Mo_Sold            0.035259\n",
       "3Ssn_Porch         0.032225\n",
       "BsmtFin_SF_2       0.005891\n",
       "Misc_Val          -0.015691\n",
       "Yr_Sold           -0.030569\n",
       "Order             -0.031408\n",
       "Bsmt_Half_Bath    -0.035835\n",
       "Low_Qual_Fin_SF   -0.037660\n",
       "MS_SubClass       -0.085092\n",
       "Overall_Cond      -0.101697\n",
       "Kitchen_AbvGr     -0.119814\n",
       "Enclosed_Porch    -0.128787\n",
       "PID               -0.246521\n",
       "Name: SalePrice, dtype: float64"
      ]
     },
     "execution_count": 11,
     "metadata": {},
     "output_type": "execute_result"
    }
   ],
   "source": [
    "correlation[\"SalePrice\"].sort_values(ascending=False)"
   ]
  },
  {
   "cell_type": "code",
   "execution_count": 76,
   "metadata": {
    "slideshow": {
     "slide_type": "fragment"
    }
   },
   "outputs": [],
   "source": [
    "#drop features with null values and low correlation \n",
    "new_df = new_df.drop(columns=[\"Order\",\"PID\",\"Bsmt_Half_Bath\",\"BsmtFin_SF_2\",\"Bsmt_Unf_SF\"])"
   ]
  },
  {
   "cell_type": "code",
   "execution_count": 78,
   "metadata": {
    "slideshow": {
     "slide_type": "slide"
    }
   },
   "outputs": [
    {
     "data": {
      "text/plain": [
       "<bound method Series.mean of 0       141.0\n",
       "1        80.0\n",
       "2        81.0\n",
       "3        93.0\n",
       "4        74.0\n",
       "        ...  \n",
       "2925     37.0\n",
       "2926    141.0\n",
       "2927     62.0\n",
       "2928     77.0\n",
       "2929     74.0\n",
       "Name: Lot_Frontage, Length: 2930, dtype: float64>"
      ]
     },
     "execution_count": 78,
     "metadata": {},
     "output_type": "execute_result"
    }
   ],
   "source": [
    "df.Lot_Frontage.mean"
   ]
  },
  {
   "cell_type": "code",
   "execution_count": 80,
   "metadata": {
    "slideshow": {
     "slide_type": "slide"
    }
   },
   "outputs": [],
   "source": [
    "null_table = df['Lot_Frontage'].isnull()\n",
    "for i in range(2930):\n",
    "    if(null_table[i]==True):\n",
    "        new_df[\"Lot_Frontage\"][i]=141.0"
   ]
  },
  {
   "cell_type": "code",
   "execution_count": 81,
   "metadata": {
    "slideshow": {
     "slide_type": "slide"
    }
   },
   "outputs": [
    {
     "data": {
      "text/plain": [
       "<bound method Series.mean of 0       112.0\n",
       "1         0.0\n",
       "2       108.0\n",
       "3         0.0\n",
       "4         0.0\n",
       "        ...  \n",
       "2925      0.0\n",
       "2926      0.0\n",
       "2927      0.0\n",
       "2928      0.0\n",
       "2929     94.0\n",
       "Name: Mas_Vnr_Area, Length: 2930, dtype: float64>"
      ]
     },
     "execution_count": 81,
     "metadata": {},
     "output_type": "execute_result"
    }
   ],
   "source": [
    "df.Mas_Vnr_Area.mean"
   ]
  },
  {
   "cell_type": "code",
   "execution_count": 82,
   "metadata": {
    "slideshow": {
     "slide_type": "notes"
    }
   },
   "outputs": [
    {
     "name": "stderr",
     "output_type": "stream",
     "text": [
      "<ipython-input-82-3ad5faf4c253>:4: SettingWithCopyWarning: \n",
      "A value is trying to be set on a copy of a slice from a DataFrame\n",
      "\n",
      "See the caveats in the documentation: https://pandas.pydata.org/pandas-docs/stable/user_guide/indexing.html#returning-a-view-versus-a-copy\n",
      "  new_df[\"Mas_Vnr_Area\"][i]=112.0\n"
     ]
    }
   ],
   "source": [
    "null_table = df['Mas_Vnr_Area'].isnull()\n",
    "for i in range(2930):\n",
    "    if(null_table[i]==True):\n",
    "        new_df[\"Mas_Vnr_Area\"][i]=112.0"
   ]
  },
  {
   "cell_type": "code",
   "execution_count": 84,
   "metadata": {
    "slideshow": {
     "slide_type": "slide"
    }
   },
   "outputs": [
    {
     "data": {
      "text/plain": [
       "<bound method Series.mean of 0        639.0\n",
       "1        468.0\n",
       "2        923.0\n",
       "3       1065.0\n",
       "4        791.0\n",
       "         ...  \n",
       "2925     819.0\n",
       "2926     301.0\n",
       "2927     337.0\n",
       "2928    1071.0\n",
       "2929     758.0\n",
       "Name: BsmtFin_SF_1, Length: 2930, dtype: float64>"
      ]
     },
     "execution_count": 84,
     "metadata": {},
     "output_type": "execute_result"
    }
   ],
   "source": [
    "df.BsmtFin_SF_1.mean"
   ]
  },
  {
   "cell_type": "code",
   "execution_count": 85,
   "metadata": {
    "slideshow": {
     "slide_type": "slide"
    }
   },
   "outputs": [
    {
     "name": "stderr",
     "output_type": "stream",
     "text": [
      "<ipython-input-85-79c7b0230b84>:4: SettingWithCopyWarning: \n",
      "A value is trying to be set on a copy of a slice from a DataFrame\n",
      "\n",
      "See the caveats in the documentation: https://pandas.pydata.org/pandas-docs/stable/user_guide/indexing.html#returning-a-view-versus-a-copy\n",
      "  new_df[\"BsmtFin_SF_1\"][i]=639.0\n"
     ]
    }
   ],
   "source": [
    "null_table = df['BsmtFin_SF_1'].isnull()\n",
    "for i in range(2930):\n",
    "    if(null_table[i]==True):\n",
    "        new_df[\"BsmtFin_SF_1\"][i]=639.0"
   ]
  },
  {
   "cell_type": "code",
   "execution_count": 87,
   "metadata": {
    "slideshow": {
     "slide_type": "slide"
    }
   },
   "outputs": [
    {
     "data": {
      "text/plain": [
       "<bound method Series.mean of 0       1.0\n",
       "1       0.0\n",
       "2       0.0\n",
       "3       1.0\n",
       "4       0.0\n",
       "       ... \n",
       "2925    1.0\n",
       "2926    1.0\n",
       "2927    0.0\n",
       "2928    1.0\n",
       "2929    0.0\n",
       "Name: Bsmt_Full_Bath, Length: 2930, dtype: float64>"
      ]
     },
     "execution_count": 87,
     "metadata": {},
     "output_type": "execute_result"
    }
   ],
   "source": [
    "df.Bsmt_Full_Bath.mean"
   ]
  },
  {
   "cell_type": "code",
   "execution_count": 88,
   "metadata": {
    "slideshow": {
     "slide_type": "slide"
    }
   },
   "outputs": [
    {
     "name": "stderr",
     "output_type": "stream",
     "text": [
      "<ipython-input-88-c746c9b62773>:4: SettingWithCopyWarning: \n",
      "A value is trying to be set on a copy of a slice from a DataFrame\n",
      "\n",
      "See the caveats in the documentation: https://pandas.pydata.org/pandas-docs/stable/user_guide/indexing.html#returning-a-view-versus-a-copy\n",
      "  new_df[\"Bsmt_Full_Bath\"][i]=1.0\n"
     ]
    }
   ],
   "source": [
    "null_table = df['Bsmt_Full_Bath'].isnull()\n",
    "for i in range(2930):\n",
    "    if(null_table[i]==True):\n",
    "        new_df[\"Bsmt_Full_Bath\"][i]=1.0"
   ]
  },
  {
   "cell_type": "code",
   "execution_count": 90,
   "metadata": {
    "slideshow": {
     "slide_type": "slide"
    }
   },
   "outputs": [
    {
     "data": {
      "text/plain": [
       "<bound method Series.mean of 0       1960.0\n",
       "1       1961.0\n",
       "2       1958.0\n",
       "3       1968.0\n",
       "4       1997.0\n",
       "         ...  \n",
       "2925    1984.0\n",
       "2926    1983.0\n",
       "2927       NaN\n",
       "2928    1975.0\n",
       "2929    1993.0\n",
       "Name: Garage_Yr_Blt, Length: 2930, dtype: float64>"
      ]
     },
     "execution_count": 90,
     "metadata": {},
     "output_type": "execute_result"
    }
   ],
   "source": [
    "df.Garage_Yr_Blt.mean"
   ]
  },
  {
   "cell_type": "code",
   "execution_count": 91,
   "metadata": {
    "slideshow": {
     "slide_type": "slide"
    }
   },
   "outputs": [
    {
     "name": "stderr",
     "output_type": "stream",
     "text": [
      "<ipython-input-91-4b46a6b0d1e9>:4: SettingWithCopyWarning: \n",
      "A value is trying to be set on a copy of a slice from a DataFrame\n",
      "\n",
      "See the caveats in the documentation: https://pandas.pydata.org/pandas-docs/stable/user_guide/indexing.html#returning-a-view-versus-a-copy\n",
      "  new_df[\"Garage_Yr_Blt\"][i]=1960\n"
     ]
    }
   ],
   "source": [
    "null_table = df['Garage_Yr_Blt'].isnull()\n",
    "for i in range(2930):\n",
    "    if(null_table[i]==True):\n",
    "        new_df[\"Garage_Yr_Blt\"][i]=1960"
   ]
  },
  {
   "cell_type": "code",
   "execution_count": 92,
   "metadata": {
    "slideshow": {
     "slide_type": "slide"
    }
   },
   "outputs": [
    {
     "data": {
      "text/plain": [
       "True"
      ]
     },
     "execution_count": 92,
     "metadata": {},
     "output_type": "execute_result"
    }
   ],
   "source": [
    "#verify all the null values are gone\n",
    "new_df.isnull().sum().sum()==0"
   ]
  },
  {
   "cell_type": "code",
   "execution_count": 96,
   "metadata": {
    "slideshow": {
     "slide_type": "slide"
    }
   },
   "outputs": [],
   "source": [
    "indexName = new_df.columns.drop(\"SalePrice\")\n",
    "X = new_df[indexName]\n",
    "y = new_df[\"SalePrice\"]"
   ]
  },
  {
   "cell_type": "code",
   "execution_count": 97,
   "metadata": {
    "slideshow": {
     "slide_type": "slide"
    }
   },
   "outputs": [],
   "source": [
    "X_train, X_test, y_train, y_test = train_test_split(\n",
    "                          X, y, random_state=0, test_size=.33)"
   ]
  },
  {
   "cell_type": "code",
   "execution_count": 98,
   "metadata": {
    "slideshow": {
     "slide_type": "slide"
    }
   },
   "outputs": [],
   "source": [
    "lr = linear_model.LinearRegression()"
   ]
  },
  {
   "cell_type": "code",
   "execution_count": 99,
   "metadata": {
    "slideshow": {
     "slide_type": "slide"
    }
   },
   "outputs": [],
   "source": [
    "model = lr.fit(X_train, y_train)"
   ]
  },
  {
   "cell_type": "markdown",
   "metadata": {
    "slideshow": {
     "slide_type": "slide"
    }
   },
   "source": [
    "$\\text{Finding out error of the model}$"
   ]
  },
  {
   "cell_type": "code",
   "execution_count": 100,
   "metadata": {
    "slideshow": {
     "slide_type": "slide"
    }
   },
   "outputs": [
    {
     "name": "stdout",
     "output_type": "stream",
     "text": [
      "R^2 is: \n",
      " 0.7886270850757143\n"
     ]
    }
   ],
   "source": [
    "print (\"R^2 is: \\n\", model.score(X_test, y_test))"
   ]
  },
  {
   "cell_type": "code",
   "execution_count": 101,
   "metadata": {
    "slideshow": {
     "slide_type": "fragment"
    }
   },
   "outputs": [
    {
     "name": "stdout",
     "output_type": "stream",
     "text": [
      "RMSE is: \n",
      " 1440841619.5006974\n",
      "MAE is :\n",
      " 21435.35041946281\n"
     ]
    }
   ],
   "source": [
    "predictions = model.predict(X_test)\n",
    "print ('RMSE is: \\n', mean_squared_error(y_test, predictions))\n",
    "print(\"MAE is :\\n\",mean_absolute_error(y_test, predictions))"
   ]
  },
  {
   "cell_type": "code",
   "execution_count": 102,
   "metadata": {
    "slideshow": {
     "slide_type": "subslide"
    }
   },
   "outputs": [
    {
     "data": {
      "image/png": "[encoded data removed]",
      "text/plain": [
       "<Figure size 432x288 with 1 Axes>"
      ]
     },
     "metadata": {
      "needs_background": "light"
     },
     "output_type": "display_data"
    }
   ],
   "source": [
    "actual_values = y_test\n",
    "plt.scatter(predictions, actual_values, alpha=.7,\n",
    "            color='b') \n",
    "plt.xlabel('Predicted Price')\n",
    "plt.ylabel('Actual Price')\n",
    "plt.title('Linear Regression Model')\n",
    "plt.show()"
   ]
  },
  {
   "cell_type": "markdown",
   "metadata": {
    "slideshow": {
     "slide_type": "slide"
    }
   },
   "source": [
    "$\\large \\text{First Attempt: Part III}$"
   ]
  },
  {
   "cell_type": "code",
   "execution_count": 7,
   "metadata": {
    "slideshow": {
     "slide_type": "slide"
    }
   },
   "outputs": [
    {
     "name": "stderr",
     "output_type": "stream",
     "text": [
      "<ipython-input-7-efe092856292>:2: SettingWithCopyWarning: \n",
      "A value is trying to be set on a copy of a slice from a DataFrame.\n",
      "Try using .loc[row_indexer,col_indexer] = value instead\n",
      "\n",
      "See the caveats in the documentation: https://pandas.pydata.org/pandas-docs/stable/user_guide/indexing.html#returning-a-view-versus-a-copy\n",
      "  another[\"num_sale\"] = df[\"num_sale_cond\"]\n"
     ]
    },
    {
     "data": {
      "text/html": [
       "<div>\n",
       "<style scoped>\n",
       "    .dataframe tbody tr th:only-of-type {\n",
       "        vertical-align: middle;\n",
       "    }\n",
       "\n",
       "    .dataframe tbody tr th {\n",
       "        vertical-align: top;\n",
       "    }\n",
       "\n",
       "    .dataframe thead th {\n",
       "        text-align: right;\n",
       "    }\n",
       "</style>\n",
       "<table border=\"1\" class=\"dataframe\">\n",
       "  <thead>\n",
       "    <tr style=\"text-align: right;\">\n",
       "      <th></th>\n",
       "      <th>Order</th>\n",
       "      <th>PID</th>\n",
       "      <th>MS_SubClass</th>\n",
       "      <th>Lot_Frontage</th>\n",
       "      <th>Lot_Area</th>\n",
       "      <th>Overall_Qual</th>\n",
       "      <th>Overall_Cond</th>\n",
       "      <th>Year_Built</th>\n",
       "      <th>Year_Remod_Add</th>\n",
       "      <th>Mas_Vnr_Area</th>\n",
       "      <th>...</th>\n",
       "      <th>Enclosed_Porch</th>\n",
       "      <th>3Ssn_Porch</th>\n",
       "      <th>Screen_Porch</th>\n",
       "      <th>Pool_Area</th>\n",
       "      <th>Misc_Val</th>\n",
       "      <th>Mo_Sold</th>\n",
       "      <th>Yr_Sold</th>\n",
       "      <th>SalePrice</th>\n",
       "      <th>num_street</th>\n",
       "      <th>num_sale</th>\n",
       "    </tr>\n",
       "  </thead>\n",
       "  <tbody>\n",
       "    <tr>\n",
       "      <th>0</th>\n",
       "      <td>1</td>\n",
       "      <td>526301100</td>\n",
       "      <td>20</td>\n",
       "      <td>141.0</td>\n",
       "      <td>31770</td>\n",
       "      <td>6</td>\n",
       "      <td>5</td>\n",
       "      <td>1960</td>\n",
       "      <td>1960</td>\n",
       "      <td>112.0</td>\n",
       "      <td>...</td>\n",
       "      <td>0</td>\n",
       "      <td>0</td>\n",
       "      <td>0</td>\n",
       "      <td>0</td>\n",
       "      <td>0</td>\n",
       "      <td>5</td>\n",
       "      <td>2010</td>\n",
       "      <td>215000</td>\n",
       "      <td>1</td>\n",
       "      <td>1</td>\n",
       "    </tr>\n",
       "    <tr>\n",
       "      <th>1</th>\n",
       "      <td>2</td>\n",
       "      <td>526350040</td>\n",
       "      <td>20</td>\n",
       "      <td>80.0</td>\n",
       "      <td>11622</td>\n",
       "      <td>5</td>\n",
       "      <td>6</td>\n",
       "      <td>1961</td>\n",
       "      <td>1961</td>\n",
       "      <td>0.0</td>\n",
       "      <td>...</td>\n",
       "      <td>0</td>\n",
       "      <td>0</td>\n",
       "      <td>120</td>\n",
       "      <td>0</td>\n",
       "      <td>0</td>\n",
       "      <td>6</td>\n",
       "      <td>2010</td>\n",
       "      <td>105000</td>\n",
       "      <td>1</td>\n",
       "      <td>1</td>\n",
       "    </tr>\n",
       "    <tr>\n",
       "      <th>2</th>\n",
       "      <td>3</td>\n",
       "      <td>526351010</td>\n",
       "      <td>20</td>\n",
       "      <td>81.0</td>\n",
       "      <td>14267</td>\n",
       "      <td>6</td>\n",
       "      <td>6</td>\n",
       "      <td>1958</td>\n",
       "      <td>1958</td>\n",
       "      <td>108.0</td>\n",
       "      <td>...</td>\n",
       "      <td>0</td>\n",
       "      <td>0</td>\n",
       "      <td>0</td>\n",
       "      <td>0</td>\n",
       "      <td>12500</td>\n",
       "      <td>6</td>\n",
       "      <td>2010</td>\n",
       "      <td>172000</td>\n",
       "      <td>1</td>\n",
       "      <td>1</td>\n",
       "    </tr>\n",
       "    <tr>\n",
       "      <th>3</th>\n",
       "      <td>4</td>\n",
       "      <td>526353030</td>\n",
       "      <td>20</td>\n",
       "      <td>93.0</td>\n",
       "      <td>11160</td>\n",
       "      <td>7</td>\n",
       "      <td>5</td>\n",
       "      <td>1968</td>\n",
       "      <td>1968</td>\n",
       "      <td>0.0</td>\n",
       "      <td>...</td>\n",
       "      <td>0</td>\n",
       "      <td>0</td>\n",
       "      <td>0</td>\n",
       "      <td>0</td>\n",
       "      <td>0</td>\n",
       "      <td>4</td>\n",
       "      <td>2010</td>\n",
       "      <td>244000</td>\n",
       "      <td>1</td>\n",
       "      <td>1</td>\n",
       "    </tr>\n",
       "    <tr>\n",
       "      <th>4</th>\n",
       "      <td>5</td>\n",
       "      <td>527105010</td>\n",
       "      <td>60</td>\n",
       "      <td>74.0</td>\n",
       "      <td>13830</td>\n",
       "      <td>5</td>\n",
       "      <td>5</td>\n",
       "      <td>1997</td>\n",
       "      <td>1998</td>\n",
       "      <td>0.0</td>\n",
       "      <td>...</td>\n",
       "      <td>0</td>\n",
       "      <td>0</td>\n",
       "      <td>0</td>\n",
       "      <td>0</td>\n",
       "      <td>0</td>\n",
       "      <td>3</td>\n",
       "      <td>2010</td>\n",
       "      <td>189900</td>\n",
       "      <td>1</td>\n",
       "      <td>1</td>\n",
       "    </tr>\n",
       "    <tr>\n",
       "      <th>...</th>\n",
       "      <td>...</td>\n",
       "      <td>...</td>\n",
       "      <td>...</td>\n",
       "      <td>...</td>\n",
       "      <td>...</td>\n",
       "      <td>...</td>\n",
       "      <td>...</td>\n",
       "      <td>...</td>\n",
       "      <td>...</td>\n",
       "      <td>...</td>\n",
       "      <td>...</td>\n",
       "      <td>...</td>\n",
       "      <td>...</td>\n",
       "      <td>...</td>\n",
       "      <td>...</td>\n",
       "      <td>...</td>\n",
       "      <td>...</td>\n",
       "      <td>...</td>\n",
       "      <td>...</td>\n",
       "      <td>...</td>\n",
       "      <td>...</td>\n",
       "    </tr>\n",
       "    <tr>\n",
       "      <th>2925</th>\n",
       "      <td>2926</td>\n",
       "      <td>923275080</td>\n",
       "      <td>80</td>\n",
       "      <td>37.0</td>\n",
       "      <td>7937</td>\n",
       "      <td>6</td>\n",
       "      <td>6</td>\n",
       "      <td>1984</td>\n",
       "      <td>1984</td>\n",
       "      <td>0.0</td>\n",
       "      <td>...</td>\n",
       "      <td>0</td>\n",
       "      <td>0</td>\n",
       "      <td>0</td>\n",
       "      <td>0</td>\n",
       "      <td>0</td>\n",
       "      <td>3</td>\n",
       "      <td>2006</td>\n",
       "      <td>142500</td>\n",
       "      <td>1</td>\n",
       "      <td>1</td>\n",
       "    </tr>\n",
       "    <tr>\n",
       "      <th>2926</th>\n",
       "      <td>2927</td>\n",
       "      <td>923276100</td>\n",
       "      <td>20</td>\n",
       "      <td>NaN</td>\n",
       "      <td>8885</td>\n",
       "      <td>5</td>\n",
       "      <td>5</td>\n",
       "      <td>1983</td>\n",
       "      <td>1983</td>\n",
       "      <td>0.0</td>\n",
       "      <td>...</td>\n",
       "      <td>0</td>\n",
       "      <td>0</td>\n",
       "      <td>0</td>\n",
       "      <td>0</td>\n",
       "      <td>0</td>\n",
       "      <td>6</td>\n",
       "      <td>2006</td>\n",
       "      <td>131000</td>\n",
       "      <td>1</td>\n",
       "      <td>1</td>\n",
       "    </tr>\n",
       "    <tr>\n",
       "      <th>2927</th>\n",
       "      <td>2928</td>\n",
       "      <td>923400125</td>\n",
       "      <td>85</td>\n",
       "      <td>62.0</td>\n",
       "      <td>10441</td>\n",
       "      <td>5</td>\n",
       "      <td>5</td>\n",
       "      <td>1992</td>\n",
       "      <td>1992</td>\n",
       "      <td>0.0</td>\n",
       "      <td>...</td>\n",
       "      <td>0</td>\n",
       "      <td>0</td>\n",
       "      <td>0</td>\n",
       "      <td>0</td>\n",
       "      <td>700</td>\n",
       "      <td>7</td>\n",
       "      <td>2006</td>\n",
       "      <td>132000</td>\n",
       "      <td>1</td>\n",
       "      <td>1</td>\n",
       "    </tr>\n",
       "    <tr>\n",
       "      <th>2928</th>\n",
       "      <td>2929</td>\n",
       "      <td>924100070</td>\n",
       "      <td>20</td>\n",
       "      <td>77.0</td>\n",
       "      <td>10010</td>\n",
       "      <td>5</td>\n",
       "      <td>5</td>\n",
       "      <td>1974</td>\n",
       "      <td>1975</td>\n",
       "      <td>0.0</td>\n",
       "      <td>...</td>\n",
       "      <td>0</td>\n",
       "      <td>0</td>\n",
       "      <td>0</td>\n",
       "      <td>0</td>\n",
       "      <td>0</td>\n",
       "      <td>4</td>\n",
       "      <td>2006</td>\n",
       "      <td>170000</td>\n",
       "      <td>1</td>\n",
       "      <td>1</td>\n",
       "    </tr>\n",
       "    <tr>\n",
       "      <th>2929</th>\n",
       "      <td>2930</td>\n",
       "      <td>924151050</td>\n",
       "      <td>60</td>\n",
       "      <td>74.0</td>\n",
       "      <td>9627</td>\n",
       "      <td>7</td>\n",
       "      <td>5</td>\n",
       "      <td>1993</td>\n",
       "      <td>1994</td>\n",
       "      <td>94.0</td>\n",
       "      <td>...</td>\n",
       "      <td>0</td>\n",
       "      <td>0</td>\n",
       "      <td>0</td>\n",
       "      <td>0</td>\n",
       "      <td>0</td>\n",
       "      <td>11</td>\n",
       "      <td>2006</td>\n",
       "      <td>188000</td>\n",
       "      <td>1</td>\n",
       "      <td>1</td>\n",
       "    </tr>\n",
       "  </tbody>\n",
       "</table>\n",
       "<p>2930 rows × 41 columns</p>\n",
       "</div>"
      ],
      "text/plain": [
       "      Order        PID  MS_SubClass  Lot_Frontage  Lot_Area  Overall_Qual  \\\n",
       "0         1  526301100           20         141.0     31770             6   \n",
       "1         2  526350040           20          80.0     11622             5   \n",
       "2         3  526351010           20          81.0     14267             6   \n",
       "3         4  526353030           20          93.0     11160             7   \n",
       "4         5  527105010           60          74.0     13830             5   \n",
       "...     ...        ...          ...           ...       ...           ...   \n",
       "2925   2926  923275080           80          37.0      7937             6   \n",
       "2926   2927  923276100           20           NaN      8885             5   \n",
       "2927   2928  923400125           85          62.0     10441             5   \n",
       "2928   2929  924100070           20          77.0     10010             5   \n",
       "2929   2930  924151050           60          74.0      9627             7   \n",
       "\n",
       "      Overall_Cond  Year_Built  Year_Remod_Add  Mas_Vnr_Area  ...  \\\n",
       "0                5        1960            1960         112.0  ...   \n",
       "1                6        1961            1961           0.0  ...   \n",
       "2                6        1958            1958         108.0  ...   \n",
       "3                5        1968            1968           0.0  ...   \n",
       "4                5        1997            1998           0.0  ...   \n",
       "...            ...         ...             ...           ...  ...   \n",
       "2925             6        1984            1984           0.0  ...   \n",
       "2926             5        1983            1983           0.0  ...   \n",
       "2927             5        1992            1992           0.0  ...   \n",
       "2928             5        1974            1975           0.0  ...   \n",
       "2929             5        1993            1994          94.0  ...   \n",
       "\n",
       "      Enclosed_Porch  3Ssn_Porch  Screen_Porch  Pool_Area  Misc_Val  Mo_Sold  \\\n",
       "0                  0           0             0          0         0        5   \n",
       "1                  0           0           120          0         0        6   \n",
       "2                  0           0             0          0     12500        6   \n",
       "3                  0           0             0          0         0        4   \n",
       "4                  0           0             0          0         0        3   \n",
       "...              ...         ...           ...        ...       ...      ...   \n",
       "2925               0           0             0          0         0        3   \n",
       "2926               0           0             0          0         0        6   \n",
       "2927               0           0             0          0       700        7   \n",
       "2928               0           0             0          0         0        4   \n",
       "2929               0           0             0          0         0       11   \n",
       "\n",
       "      Yr_Sold  SalePrice  num_street  num_sale  \n",
       "0        2010     215000           1         1  \n",
       "1        2010     105000           1         1  \n",
       "2        2010     172000           1         1  \n",
       "3        2010     244000           1         1  \n",
       "4        2010     189900           1         1  \n",
       "...       ...        ...         ...       ...  \n",
       "2925     2006     142500           1         1  \n",
       "2926     2006     131000           1         1  \n",
       "2927     2006     132000           1         1  \n",
       "2928     2006     170000           1         1  \n",
       "2929     2006     188000           1         1  \n",
       "\n",
       "[2930 rows x 41 columns]"
      ]
     },
     "execution_count": 7,
     "metadata": {},
     "output_type": "execute_result"
    }
   ],
   "source": [
    "#Create a new data frame with all the numerical features of df\n",
    "another = df.select_dtypes(include=[np.number])\n",
    "another[\"num_sale\"] = df[\"num_sale_cond\"]\n",
    "another"
   ]
  },
  {
   "cell_type": "code",
   "execution_count": 8,
   "metadata": {
    "slideshow": {
     "slide_type": "slide"
    }
   },
   "outputs": [],
   "source": [
    "#drop rows with null values\n",
    "another = another.dropna(axis=0,how='any')"
   ]
  },
  {
   "cell_type": "code",
   "execution_count": 9,
   "metadata": {
    "slideshow": {
     "slide_type": "slide"
    }
   },
   "outputs": [
    {
     "data": {
      "text/plain": [
       "Index(['Order', 'PID', 'MS_SubClass', 'Lot_Frontage', 'Lot_Area',\n",
       "       'Overall_Qual', 'Overall_Cond', 'Year_Built', 'Year_Remod_Add',\n",
       "       'Mas_Vnr_Area', 'BsmtFin_SF_1', 'BsmtFin_SF_2', 'Bsmt_Unf_SF',\n",
       "       'Total_Bsmt_SF', '1st_Flr_SF', '2nd_Flr_SF', 'Low_Qual_Fin_SF',\n",
       "       'Gr_Liv_Area', 'Bsmt_Full_Bath', 'Bsmt_Half_Bath', 'Full_Bath',\n",
       "       'Half_Bath', 'Bedroom_AbvGr', 'Kitchen_AbvGr', 'TotRms_AbvGrd',\n",
       "       'Fireplaces', 'Garage_Yr_Blt', 'Garage_Cars', 'Garage_Area',\n",
       "       'Wood_Deck_SF', 'Open_Porch_SF', 'Enclosed_Porch', '3Ssn_Porch',\n",
       "       'Screen_Porch', 'Pool_Area', 'Misc_Val', 'Mo_Sold', 'Yr_Sold',\n",
       "       'SalePrice', 'num_street', 'num_sale'],\n",
       "      dtype='object')"
      ]
     },
     "execution_count": 9,
     "metadata": {},
     "output_type": "execute_result"
    }
   ],
   "source": [
    "another.columns"
   ]
  },
  {
   "cell_type": "code",
   "execution_count": 10,
   "metadata": {
    "slideshow": {
     "slide_type": "slide"
    }
   },
   "outputs": [
    {
     "data": {
      "text/plain": [
       "Index(['MS_SubClass', 'Lot_Frontage', 'Lot_Area', 'Overall_Qual',\n",
       "       'Overall_Cond', 'Year_Built', 'Year_Remod_Add', 'Mas_Vnr_Area',\n",
       "       'BsmtFin_SF_1', 'BsmtFin_SF_2', 'Bsmt_Unf_SF', 'Total_Bsmt_SF',\n",
       "       '1st_Flr_SF', '2nd_Flr_SF', 'Low_Qual_Fin_SF', 'Gr_Liv_Area',\n",
       "       'Bsmt_Full_Bath', 'Bsmt_Half_Bath', 'Full_Bath', 'Half_Bath',\n",
       "       'Bedroom_AbvGr', 'Kitchen_AbvGr', 'TotRms_AbvGrd', 'Fireplaces',\n",
       "       'Garage_Yr_Blt', 'Garage_Cars', 'Garage_Area', 'Wood_Deck_SF',\n",
       "       'Open_Porch_SF', 'Enclosed_Porch', '3Ssn_Porch', 'Screen_Porch',\n",
       "       'Pool_Area', 'Misc_Val', 'Mo_Sold', 'Yr_Sold', 'SalePrice',\n",
       "       'num_street', 'num_sale'],\n",
       "      dtype='object')"
      ]
     },
     "execution_count": 10,
     "metadata": {},
     "output_type": "execute_result"
    }
   ],
   "source": [
    "another = another.drop([\"Order\",\"PID\"],axis=1)\n",
    "another.columns"
   ]
  },
  {
   "cell_type": "code",
   "execution_count": 11,
   "metadata": {
    "slideshow": {
     "slide_type": "slide"
    }
   },
   "outputs": [
    {
     "data": {
      "text/plain": [
       "True"
      ]
     },
     "execution_count": 11,
     "metadata": {},
     "output_type": "execute_result"
    }
   ],
   "source": [
    "#check if there're any null values\n",
    "another.isnull().sum().sum()==0"
   ]
  },
  {
   "cell_type": "code",
   "execution_count": 161,
   "metadata": {
    "slideshow": {
     "slide_type": "slide"
    }
   },
   "outputs": [],
   "source": [
    "indexName = another.columns.drop(\"SalePrice\")\n",
    "X = another[indexName]\n",
    "y = another[\"SalePrice\"]"
   ]
  },
  {
   "cell_type": "code",
   "execution_count": 162,
   "metadata": {
    "slideshow": {
     "slide_type": "slide"
    }
   },
   "outputs": [],
   "source": [
    "X_train, X_test, y_train, y_test = train_test_split(\n",
    "                          X, y, random_state=0, test_size=.4)"
   ]
  },
  {
   "cell_type": "code",
   "execution_count": 163,
   "metadata": {
    "slideshow": {
     "slide_type": "slide"
    }
   },
   "outputs": [],
   "source": [
    "lr = linear_model.LinearRegression()"
   ]
  },
  {
   "cell_type": "code",
   "execution_count": 164,
   "metadata": {
    "slideshow": {
     "slide_type": "slide"
    }
   },
   "outputs": [],
   "source": [
    "model = lr.fit(X_train, y_train)"
   ]
  },
  {
   "cell_type": "markdown",
   "metadata": {
    "slideshow": {
     "slide_type": "slide"
    }
   },
   "source": [
    "$\\text{Finding out error of the model}$"
   ]
  },
  {
   "cell_type": "code",
   "execution_count": 165,
   "metadata": {
    "slideshow": {
     "slide_type": "slide"
    }
   },
   "outputs": [
    {
     "name": "stdout",
     "output_type": "stream",
     "text": [
      "R^2 is: \n",
      " 0.8388815815916616\n"
     ]
    }
   ],
   "source": [
    "print (\"R^2 is: \\n\", model.score(X_test, y_test))"
   ]
  },
  {
   "cell_type": "code",
   "execution_count": 166,
   "metadata": {
    "slideshow": {
     "slide_type": "subslide"
    }
   },
   "outputs": [
    {
     "name": "stdout",
     "output_type": "stream",
     "text": [
      "RMSE is: \n",
      " 1060663409.3985114\n",
      "MAE is :\n",
      " 21320.01345827645\n"
     ]
    }
   ],
   "source": [
    "predictions = model.predict(X_test)\n",
    "print ('RMSE is: \\n', mean_squared_error(y_test, predictions))\n",
    "print(\"MAE is :\\n\",mean_absolute_error(y_test, predictions))"
   ]
  },
  {
   "cell_type": "markdown",
   "metadata": {
    "slideshow": {
     "slide_type": "slide"
    }
   },
   "source": [
    "$\\large \\text{First Attempt: Part IV}$"
   ]
  },
  {
   "cell_type": "code",
   "execution_count": 12,
   "metadata": {
    "slideshow": {
     "slide_type": "slide"
    }
   },
   "outputs": [],
   "source": [
    "indexName = another.columns.drop(\"SalePrice\")\n",
    "X = another[indexName]\n",
    "y = np.log(another[\"SalePrice\"])"
   ]
  },
  {
   "cell_type": "code",
   "execution_count": 13,
   "metadata": {
    "slideshow": {
     "slide_type": "slide"
    }
   },
   "outputs": [],
   "source": [
    "X_train, X_test, y_train, y_test = train_test_split(\n",
    "                          X, y, random_state=0, test_size=.4)"
   ]
  },
  {
   "cell_type": "code",
   "execution_count": 14,
   "metadata": {
    "slideshow": {
     "slide_type": "slide"
    }
   },
   "outputs": [],
   "source": [
    "lr = linear_model.LinearRegression()"
   ]
  },
  {
   "cell_type": "code",
   "execution_count": 15,
   "metadata": {
    "slideshow": {
     "slide_type": "slide"
    }
   },
   "outputs": [],
   "source": [
    "model = lr.fit(X_train, y_train)"
   ]
  },
  {
   "cell_type": "code",
   "execution_count": 16,
   "metadata": {
    "slideshow": {
     "slide_type": "slide"
    }
   },
   "outputs": [
    {
     "name": "stdout",
     "output_type": "stream",
     "text": [
      "R^2 is: \n",
      " 0.8820892372591936\n"
     ]
    }
   ],
   "source": [
    "print (\"R^2 is: \\n\", model.score(X_test, y_test))"
   ]
  },
  {
   "cell_type": "code",
   "execution_count": 17,
   "metadata": {
    "slideshow": {
     "slide_type": "slide"
    }
   },
   "outputs": [
    {
     "name": "stdout",
     "output_type": "stream",
     "text": [
      "RMSE is: \n",
      " 0.01934581059437493\n",
      "MAE is :\n",
      " 0.09429880983660362\n"
     ]
    }
   ],
   "source": [
    "predictions = model.predict(X_test)\n",
    "print ('RMSE is: \\n', mean_squared_error(y_test, predictions))\n",
    "print(\"MAE is :\\n\",mean_absolute_error(y_test, predictions))"
   ]
  },
  {
   "cell_type": "code",
   "execution_count": 23,
   "metadata": {
    "slideshow": {
     "slide_type": "slide"
    }
   },
   "outputs": [
    {
     "data": {
      "image/png": "[encoded data removed]",
      "text/plain": [
       "<Figure size 432x288 with 1 Axes>"
      ]
     },
     "metadata": {
      "needs_background": "light"
     },
     "output_type": "display_data"
    }
   ],
   "source": [
    "actual_values = y_test\n",
    "plt.scatter(predictions, actual_values, alpha=.7,\n",
    "            color='b') \n",
    "plt.xlabel('Predicted Price')\n",
    "plt.ylabel('Actual Price')\n",
    "plt.title('Linear Regression Model')\n",
    "plt.show()"
   ]
  },
  {
   "cell_type": "markdown",
   "metadata": {
    "slideshow": {
     "slide_type": "slide"
    }
   },
   "source": [
    "$\\large \\text{Histogram of log(Sale Price)}$"
   ]
  },
  {
   "cell_type": "code",
   "execution_count": 18,
   "metadata": {
    "slideshow": {
     "slide_type": "subslide"
    }
   },
   "outputs": [
    {
     "data": {
      "text/plain": [
       "(array([  2.,   0.,   3.,  18., 115., 782., 825., 387., 127.,  15.]),\n",
       " array([ 9.45634071,  9.86415394, 10.27196717, 10.6797804 , 11.08759363,\n",
       "        11.49540687, 11.9032201 , 12.31103333, 12.71884656, 13.1266598 ,\n",
       "        13.53447303]),\n",
       " <a list of 10 Patch objects>)"
      ]
     },
     "execution_count": 18,
     "metadata": {},
     "output_type": "execute_result"
    },
    {
     "data": {
      "image/png": "[encoded data removed]",
      "text/plain": [
       "<Figure size 432x288 with 1 Axes>"
      ]
     },
     "metadata": {
      "needs_background": "light"
     },
     "output_type": "display_data"
    }
   ],
   "source": [
    "plt.hist(y)"
   ]
  },
  {
   "cell_type": "code",
   "execution_count": 26,
   "metadata": {
    "slideshow": {
     "slide_type": "skip"
    }
   },
   "outputs": [
    {
     "data": {
      "text/plain": [
       "numpy.ndarray"
      ]
     },
     "execution_count": 26,
     "metadata": {},
     "output_type": "execute_result"
    }
   ],
   "source": [
    "type(predictions)"
   ]
  },
  {
   "cell_type": "code",
   "execution_count": null,
   "metadata": {
    "slideshow": {
     "slide_type": "skip"
    }
   },
   "outputs": [],
   "source": [
    "#https://towardsdatascience.com/skewed-data-a-problem-to-your-statistical-model-9a6b5bb74e37\n",
    "#explain why skew data is bad for accuracy\n",
    "#ppt generator\n",
    "#https://rise.readthedocs.io/en/stable/\n",
    "#example\n",
    "#https://youtu.be/sXyFa_r1nxA\n",
    "#textbook\n",
    "#http://vmls-book.stanford.edu/vmls.pdf"
   ]
  }
 ],
 "metadata": {
  "celltoolbar": "Slideshow",
  "kernelspec": {
   "display_name": "Python 3",
   "language": "python",
   "name": "python3"
  },
  "language_info": {
   "codemirror_mode": {
    "name": "ipython",
    "version": 3
   },
   "file_extension": ".py",
   "mimetype": "text/x-python",
   "name": "python",
   "nbconvert_exporter": "python",
   "pygments_lexer": "ipython3",
   "version": "3.8.3"
  }
 },
 "nbformat": 4,
 "nbformat_minor": 4
}
